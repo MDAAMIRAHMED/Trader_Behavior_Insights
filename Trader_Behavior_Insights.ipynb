{
  "nbformat": 4,
  "nbformat_minor": 0,
  "metadata": {
    "colab": {
      "provenance": [],
      "authorship_tag": "ABX9TyPXIy+5qFW8yURFUvql4UGk"
    },
    "kernelspec": {
      "name": "python3",
      "display_name": "Python 3"
    },
    "language_info": {
      "name": "python"
    }
  },
  "cells": [
    {
      "cell_type": "markdown",
      "source": [
        "# Trader Behavior Insights"
      ],
      "metadata": {
        "id": "i26LqlltuAQ-"
      }
    },
    {
      "cell_type": "markdown",
      "source": [
        "## Importing the libraries"
      ],
      "metadata": {
        "id": "6HVnPZC_t7GM"
      }
    },
    {
      "cell_type": "code",
      "execution_count": 13,
      "metadata": {
        "id": "aIXRG9qStmxC"
      },
      "outputs": [],
      "source": [
        "import pandas as pd\n",
        "import numpy as np\n",
        "import matplotlib.pyplot as plt\n",
        "import seaborn as sns\n",
        "import warnings\n",
        "import plotly.express as px\n",
        "warnings.filterwarnings('ignore', category=RuntimeWarning)"
      ]
    },
    {
      "cell_type": "markdown",
      "source": [
        "## Importing Dataset"
      ],
      "metadata": {
        "id": "DbugbQXouPGP"
      }
    },
    {
      "cell_type": "code",
      "source": [
        "sentiment_df = pd.read_csv('/content/fear_greed_index.csv')\n",
        "trader_df = pd.read_csv('/content/historical_data.csv')"
      ],
      "metadata": {
        "id": "NAO6n79euKmM"
      },
      "execution_count": 14,
      "outputs": []
    },
    {
      "cell_type": "code",
      "source": [
        "print(sentiment_df)"
      ],
      "metadata": {
        "colab": {
          "base_uri": "https://localhost:8080/"
        },
        "id": "dyBhKXxIu5Ev",
        "outputId": "5acc0b75-40a7-4127-c1af-9b3bf4167c8e"
      },
      "execution_count": 15,
      "outputs": [
        {
          "output_type": "stream",
          "name": "stdout",
          "text": [
            "       timestamp  value classification        date\n",
            "0     1517463000     30           Fear  2018-02-01\n",
            "1     1517549400     15   Extreme Fear  2018-02-02\n",
            "2     1517635800     40           Fear  2018-02-03\n",
            "3     1517722200     24   Extreme Fear  2018-02-04\n",
            "4     1517808600     11   Extreme Fear  2018-02-05\n",
            "...          ...    ...            ...         ...\n",
            "2639  1745818200     54        Neutral  2025-04-28\n",
            "2640  1745904600     60          Greed  2025-04-29\n",
            "2641  1745991000     56          Greed  2025-04-30\n",
            "2642  1746077400     53        Neutral  2025-05-01\n",
            "2643  1746163800     67          Greed  2025-05-02\n",
            "\n",
            "[2644 rows x 4 columns]\n"
          ]
        }
      ]
    },
    {
      "cell_type": "code",
      "source": [
        "print(trader_df.head())"
      ],
      "metadata": {
        "colab": {
          "base_uri": "https://localhost:8080/"
        },
        "id": "pqr7lxiwu7li",
        "outputId": "40139505-a9d5-4290-af54-a702131d9860"
      },
      "execution_count": 16,
      "outputs": [
        {
          "output_type": "stream",
          "name": "stdout",
          "text": [
            "                                      Account  Coin  Execution Price  \\\n",
            "0  0xae5eacaf9c6b9111fd53034a602c192a04e082ed  @107           7.9769   \n",
            "1  0xae5eacaf9c6b9111fd53034a602c192a04e082ed  @107           7.9800   \n",
            "2  0xae5eacaf9c6b9111fd53034a602c192a04e082ed  @107           7.9855   \n",
            "3  0xae5eacaf9c6b9111fd53034a602c192a04e082ed  @107           7.9874   \n",
            "4  0xae5eacaf9c6b9111fd53034a602c192a04e082ed  @107           7.9894   \n",
            "\n",
            "   Size Tokens  Size USD Side     Timestamp IST  Start Position Direction  \\\n",
            "0       986.87   7872.16  BUY  02-12-2024 22:50        0.000000       Buy   \n",
            "1        16.00    127.68  BUY  02-12-2024 22:50      986.524596       Buy   \n",
            "2       144.09   1150.63  BUY  02-12-2024 22:50     1002.518996       Buy   \n",
            "3       142.98   1142.04  BUY  02-12-2024 22:50     1146.558564       Buy   \n",
            "4         8.73     69.75  BUY  02-12-2024 22:50     1289.488521       Buy   \n",
            "\n",
            "   Closed PnL                                   Transaction Hash  \\\n",
            "0         0.0  0xec09451986a1874e3a980418412fcd0201f500c95bac...   \n",
            "1         0.0  0xec09451986a1874e3a980418412fcd0201f500c95bac...   \n",
            "2         0.0  0xec09451986a1874e3a980418412fcd0201f500c95bac...   \n",
            "3         0.0  0xec09451986a1874e3a980418412fcd0201f500c95bac...   \n",
            "4         0.0  0xec09451986a1874e3a980418412fcd0201f500c95bac...   \n",
            "\n",
            "       Order ID Crossed       Fee      Trade ID     Timestamp  \n",
            "0  5.201771e+10    True  0.345404  8.950000e+14  1.730000e+12  \n",
            "1  5.201771e+10    True  0.005600  4.430000e+14  1.730000e+12  \n",
            "2  5.201771e+10    True  0.050431  6.600000e+14  1.730000e+12  \n",
            "3  5.201771e+10    True  0.050043  1.080000e+15  1.730000e+12  \n",
            "4  5.201771e+10    True  0.003055  1.050000e+15  1.730000e+12  \n"
          ]
        }
      ]
    },
    {
      "cell_type": "markdown",
      "source": [
        "# 1. Data Alignment"
      ],
      "metadata": {
        "id": "qV4U3SVExJj-"
      }
    },
    {
      "cell_type": "code",
      "source": [
        "# Ensure date columns are datetime and align on date (ignore time for alignment)\n",
        "sentiment_df['date'] = pd.to_datetime(sentiment_df['date']).dt.date\n",
        "\n",
        "trader_df['Timestamp IST'] = pd.to_datetime(trader_df['Timestamp IST'], dayfirst=True)\n",
        "\n",
        "trader_df['date'] = trader_df['Timestamp IST'].dt.date"
      ],
      "metadata": {
        "id": "siBJvPSsu9ke"
      },
      "execution_count": 17,
      "outputs": []
    },
    {
      "cell_type": "code",
      "source": [
        "# Merge sentiment with trader data on date to tag sentiment per trade\n",
        "merged_df = pd.merge(trader_df, sentiment_df[['date', 'value', 'classification']], on='date', how='left')"
      ],
      "metadata": {
        "id": "p2HieBBqwYfs"
      },
      "execution_count": 18,
      "outputs": []
    },
    {
      "cell_type": "code",
      "source": [
        "print(merged_df.head())"
      ],
      "metadata": {
        "colab": {
          "base_uri": "https://localhost:8080/"
        },
        "id": "Cw2j2fBjwzgf",
        "outputId": "b93f5240-bade-46e9-d6bf-f940920330cd"
      },
      "execution_count": 19,
      "outputs": [
        {
          "output_type": "stream",
          "name": "stdout",
          "text": [
            "                                      Account  Coin  Execution Price  \\\n",
            "0  0xae5eacaf9c6b9111fd53034a602c192a04e082ed  @107           7.9769   \n",
            "1  0xae5eacaf9c6b9111fd53034a602c192a04e082ed  @107           7.9800   \n",
            "2  0xae5eacaf9c6b9111fd53034a602c192a04e082ed  @107           7.9855   \n",
            "3  0xae5eacaf9c6b9111fd53034a602c192a04e082ed  @107           7.9874   \n",
            "4  0xae5eacaf9c6b9111fd53034a602c192a04e082ed  @107           7.9894   \n",
            "\n",
            "   Size Tokens  Size USD Side       Timestamp IST  Start Position Direction  \\\n",
            "0       986.87   7872.16  BUY 2024-12-02 22:50:00        0.000000       Buy   \n",
            "1        16.00    127.68  BUY 2024-12-02 22:50:00      986.524596       Buy   \n",
            "2       144.09   1150.63  BUY 2024-12-02 22:50:00     1002.518996       Buy   \n",
            "3       142.98   1142.04  BUY 2024-12-02 22:50:00     1146.558564       Buy   \n",
            "4         8.73     69.75  BUY 2024-12-02 22:50:00     1289.488521       Buy   \n",
            "\n",
            "   Closed PnL                                   Transaction Hash  \\\n",
            "0         0.0  0xec09451986a1874e3a980418412fcd0201f500c95bac...   \n",
            "1         0.0  0xec09451986a1874e3a980418412fcd0201f500c95bac...   \n",
            "2         0.0  0xec09451986a1874e3a980418412fcd0201f500c95bac...   \n",
            "3         0.0  0xec09451986a1874e3a980418412fcd0201f500c95bac...   \n",
            "4         0.0  0xec09451986a1874e3a980418412fcd0201f500c95bac...   \n",
            "\n",
            "       Order ID Crossed       Fee      Trade ID     Timestamp        date  \\\n",
            "0  5.201771e+10    True  0.345404  8.950000e+14  1.730000e+12  2024-12-02   \n",
            "1  5.201771e+10    True  0.005600  4.430000e+14  1.730000e+12  2024-12-02   \n",
            "2  5.201771e+10    True  0.050431  6.600000e+14  1.730000e+12  2024-12-02   \n",
            "3  5.201771e+10    True  0.050043  1.080000e+15  1.730000e+12  2024-12-02   \n",
            "4  5.201771e+10    True  0.003055  1.050000e+15  1.730000e+12  2024-12-02   \n",
            "\n",
            "   value classification  \n",
            "0   80.0  Extreme Greed  \n",
            "1   80.0  Extreme Greed  \n",
            "2   80.0  Extreme Greed  \n",
            "3   80.0  Extreme Greed  \n",
            "4   80.0  Extreme Greed  \n"
          ]
        }
      ]
    },
    {
      "cell_type": "markdown",
      "source": [
        "# 2. Feature Engineering per trader"
      ],
      "metadata": {
        "id": "b7vrT7qkxYCb"
      }
    },
    {
      "cell_type": "code",
      "source": [
        "# For sharpe ratio\n",
        "def sharpe_ratio(returns, risk_free_rate=0):\n",
        "    if len(returns) < 2:\n",
        "        return np.nan\n",
        "    return (returns.mean() - risk_free_rate) / (returns.std() + 1e-9)"
      ],
      "metadata": {
        "id": "tDdDlFMMyCUT"
      },
      "execution_count": 20,
      "outputs": []
    },
    {
      "cell_type": "code",
      "source": [
        "def compute_trader_metrics(df):\n",
        "    # Filter trades per trader\n",
        "    grouped = df.groupby('Account')\n",
        "\n",
        "    metrics = []\n",
        "    for trader, group in grouped:\n",
        "        total_trades = len(group)\n",
        "        wins = (group['Closed PnL'] > 0).sum()\n",
        "        losses = (group['Closed PnL'] <= 0).sum()\n",
        "        win_rate = wins / total_trades if total_trades > 0 else np.nan\n",
        "        pnl = group['Closed PnL'].sum()\n",
        "        # Daily returns approximation using Closed PnL grouped by day\n",
        "        daily_returns = group.groupby('date')['Closed PnL'].sum().pct_change().dropna()\n",
        "        sharpe = sharpe_ratio(daily_returns)\n",
        "        roi = pnl / group['Size USD'].sum() if group['Size USD'].sum() != 0 else np.nan\n",
        "        trade_freq = total_trades / ((group['date'].max() - group['date'].min()).days + 1)\n",
        "\n",
        "        # Drawdown calculation\n",
        "        cumulative_pnl = group.sort_values('Timestamp IST')['Closed PnL'].cumsum()\n",
        "        running_max = cumulative_pnl.cummax()\n",
        "        drawdown = (running_max - cumulative_pnl).max()\n",
        "\n",
        "        metrics.append({\n",
        "            'Account': trader,\n",
        "            'Total Trades': total_trades,\n",
        "            'Wins': wins,\n",
        "            'Losses': losses,\n",
        "            'Win Rate': win_rate,\n",
        "            'Total PnL': pnl,\n",
        "            'Sharpe Ratio': sharpe,\n",
        "            'ROI': roi,\n",
        "            'Trade Frequency (trades/day)': trade_freq,\n",
        "            'Max Drawdown': drawdown\n",
        "        })\n",
        "    return pd.DataFrame(metrics)"
      ],
      "metadata": {
        "id": "iZufHP5Ow1Mj"
      },
      "execution_count": 21,
      "outputs": []
    },
    {
      "cell_type": "code",
      "source": [
        "trader_metrics_df = compute_trader_metrics(merged_df)"
      ],
      "metadata": {
        "id": "USgfPyIKx5rk"
      },
      "execution_count": 22,
      "outputs": []
    },
    {
      "cell_type": "code",
      "source": [
        "print(trader_metrics_df.head())"
      ],
      "metadata": {
        "colab": {
          "base_uri": "https://localhost:8080/"
        },
        "id": "twEzGf-5x9SC",
        "outputId": "b2e93992-cd3b-48aa-a7ad-0ab74abc873e"
      },
      "execution_count": 23,
      "outputs": [
        {
          "output_type": "stream",
          "name": "stdout",
          "text": [
            "                                      Account  Total Trades  Wins  Losses  \\\n",
            "0  0x083384f897ee0f19899168e3b1bec365f52a9012          3818  1373    2445   \n",
            "1  0x430f09841d65beb3f27765503d0f850b8bce7713          1237   599     638   \n",
            "2  0x4f93fead39b70a1824f981a54d4e55b278e9f760          7584  2733    4851   \n",
            "3  0x513b8629fe877bb581bf244e326a047b249c4ff1         12236  4909    7327   \n",
            "4  0x72c6a4624e1dffa724e6d00d64ceae698af892a0          1430   438     992   \n",
            "\n",
            "   Win Rate     Total PnL  Sharpe Ratio       ROI  \\\n",
            "0  0.359612  1.600230e+06           NaN  0.025937   \n",
            "1  0.484236  4.165419e+05           NaN  0.140434   \n",
            "2  0.360364  3.089759e+05           NaN  0.002383   \n",
            "3  0.401193  8.404226e+05           NaN  0.001997   \n",
            "4  0.306294  4.030115e+05           NaN  0.132085   \n",
            "\n",
            "   Trade Frequency (trades/day)   Max Drawdown  \n",
            "0                     24.954248  327934.104256  \n",
            "1                      3.298667       0.000000  \n",
            "2                     18.274699  113383.715290  \n",
            "3                     84.972222   84803.251682  \n",
            "4                      6.682243   12239.233669  \n"
          ]
        }
      ]
    },
    {
      "cell_type": "code",
      "source": [
        "trader_metrics_df.info()"
      ],
      "metadata": {
        "colab": {
          "base_uri": "https://localhost:8080/"
        },
        "id": "bGaN-MeIyNFr",
        "outputId": "e3984bfc-7e28-4af8-dd37-297ac93b1f75"
      },
      "execution_count": 24,
      "outputs": [
        {
          "output_type": "stream",
          "name": "stdout",
          "text": [
            "<class 'pandas.core.frame.DataFrame'>\n",
            "RangeIndex: 8 entries, 0 to 7\n",
            "Data columns (total 10 columns):\n",
            " #   Column                        Non-Null Count  Dtype  \n",
            "---  ------                        --------------  -----  \n",
            " 0   Account                       8 non-null      object \n",
            " 1   Total Trades                  8 non-null      int64  \n",
            " 2   Wins                          8 non-null      int64  \n",
            " 3   Losses                        8 non-null      int64  \n",
            " 4   Win Rate                      8 non-null      float64\n",
            " 5   Total PnL                     8 non-null      float64\n",
            " 6   Sharpe Ratio                  0 non-null      float64\n",
            " 7   ROI                           8 non-null      float64\n",
            " 8   Trade Frequency (trades/day)  8 non-null      float64\n",
            " 9   Max Drawdown                  8 non-null      float64\n",
            "dtypes: float64(6), int64(3), object(1)\n",
            "memory usage: 772.0+ bytes\n"
          ]
        }
      ]
    },
    {
      "cell_type": "markdown",
      "source": [
        "# 3. Segmented Analysis by sentiment regimes"
      ],
      "metadata": {
        "id": "jdXS5NES0jU6"
      }
    },
    {
      "cell_type": "code",
      "source": [
        "segmented_metrics = merged_df.groupby(['Account', 'classification']).agg(\n",
        "    Trades=('Closed PnL', 'count'),\n",
        "    Wins=('Closed PnL', lambda x: (x > 0).sum()),\n",
        "    Losses=('Closed PnL', lambda x: (x <= 0).sum()),\n",
        "    Total_PnL=('Closed PnL', 'sum'),\n",
        "    Avg_ROI=('Closed PnL', lambda x: x.sum() / merged_df.loc[x.index, 'Size USD'].sum() if merged_df.loc[x.index, 'Size USD'].sum() != 0 else np.nan)\n",
        ").reset_index()"
      ],
      "metadata": {
        "id": "x5Zh-xYzyzZG"
      },
      "execution_count": 25,
      "outputs": []
    },
    {
      "cell_type": "code",
      "source": [
        "segmented_metrics['Win Rate'] = segmented_metrics['Wins'] / segmented_metrics['Trades']"
      ],
      "metadata": {
        "id": "ufOFYOCX0xXw"
      },
      "execution_count": 26,
      "outputs": []
    },
    {
      "cell_type": "code",
      "source": [
        "print(segmented_metrics)"
      ],
      "metadata": {
        "colab": {
          "base_uri": "https://localhost:8080/"
        },
        "id": "VQFwAzww00fS",
        "outputId": "75b5d97d-442f-45b8-966f-5654028bfbae"
      },
      "execution_count": 27,
      "outputs": [
        {
          "output_type": "stream",
          "name": "stdout",
          "text": [
            "                                       Account classification  Trades  Wins  \\\n",
            "0   0x083384f897ee0f19899168e3b1bec365f52a9012   Extreme Fear     100    37   \n",
            "1   0x083384f897ee0f19899168e3b1bec365f52a9012  Extreme Greed     945    63   \n",
            "2   0x083384f897ee0f19899168e3b1bec365f52a9012           Fear    1778   936   \n",
            "3   0x083384f897ee0f19899168e3b1bec365f52a9012          Greed     574    92   \n",
            "4   0x083384f897ee0f19899168e3b1bec365f52a9012        Neutral     421   245   \n",
            "5   0x430f09841d65beb3f27765503d0f850b8bce7713   Extreme Fear      79     0   \n",
            "6   0x430f09841d65beb3f27765503d0f850b8bce7713  Extreme Greed      15    15   \n",
            "7   0x430f09841d65beb3f27765503d0f850b8bce7713           Fear     237    24   \n",
            "8   0x430f09841d65beb3f27765503d0f850b8bce7713          Greed     772   492   \n",
            "9   0x430f09841d65beb3f27765503d0f850b8bce7713        Neutral     134    68   \n",
            "10  0x4f93fead39b70a1824f981a54d4e55b278e9f760   Extreme Fear     371   159   \n",
            "11  0x4f93fead39b70a1824f981a54d4e55b278e9f760  Extreme Greed    2446   816   \n",
            "12  0x4f93fead39b70a1824f981a54d4e55b278e9f760           Fear    1156   411   \n",
            "13  0x4f93fead39b70a1824f981a54d4e55b278e9f760          Greed    2334   802   \n",
            "14  0x4f93fead39b70a1824f981a54d4e55b278e9f760        Neutral    1277   545   \n",
            "15  0x513b8629fe877bb581bf244e326a047b249c4ff1   Extreme Fear     346   105   \n",
            "16  0x513b8629fe877bb581bf244e326a047b249c4ff1  Extreme Greed     223     0   \n",
            "17  0x513b8629fe877bb581bf244e326a047b249c4ff1           Fear    5981  2216   \n",
            "18  0x513b8629fe877bb581bf244e326a047b249c4ff1          Greed    3169  1193   \n",
            "19  0x513b8629fe877bb581bf244e326a047b249c4ff1        Neutral    2517  1395   \n",
            "20  0x72c6a4624e1dffa724e6d00d64ceae698af892a0   Extreme Fear     221    93   \n",
            "21  0x72c6a4624e1dffa724e6d00d64ceae698af892a0  Extreme Greed     227     1   \n",
            "22  0x72c6a4624e1dffa724e6d00d64ceae698af892a0           Fear     431   278   \n",
            "23  0x72c6a4624e1dffa724e6d00d64ceae698af892a0          Greed     488    60   \n",
            "24  0x72c6a4624e1dffa724e6d00d64ceae698af892a0        Neutral      57     0   \n",
            "25  0x75f7eeb85dc639d5e99c78f95393aa9a5f1170d4  Extreme Greed    2798  2353   \n",
            "26  0x75f7eeb85dc639d5e99c78f95393aa9a5f1170d4          Greed     954   719   \n",
            "27  0x75f7eeb85dc639d5e99c78f95393aa9a5f1170d4        Neutral      18     3   \n",
            "28  0x8381e6d82f1affd39a336e143e081ef7620a3b7f   Extreme Fear      49    10   \n",
            "29  0x8381e6d82f1affd39a336e143e081ef7620a3b7f  Extreme Greed      80     2   \n",
            "30  0x8381e6d82f1affd39a336e143e081ef7620a3b7f           Fear      55    19   \n",
            "31  0x8381e6d82f1affd39a336e143e081ef7620a3b7f          Greed     297   143   \n",
            "32  0x8381e6d82f1affd39a336e143e081ef7620a3b7f        Neutral    1430   457   \n",
            "33  0xae5eacaf9c6b9111fd53034a602c192a04e082ed   Extreme Fear      80     6   \n",
            "34  0xae5eacaf9c6b9111fd53034a602c192a04e082ed  Extreme Greed     190   105   \n",
            "35  0xae5eacaf9c6b9111fd53034a602c192a04e082ed           Fear     123    43   \n",
            "36  0xae5eacaf9c6b9111fd53034a602c192a04e082ed          Greed     170    76   \n",
            "\n",
            "    Losses     Total_PnL   Avg_ROI  Win Rate  \n",
            "0       63  1.247692e+05  0.082788  0.370000  \n",
            "1      882 -4.028234e+04 -0.003529  0.066667  \n",
            "2      842  1.113374e+06  0.036791  0.526434  \n",
            "3      482  2.767193e+05  0.031854  0.160279  \n",
            "4      176  1.256501e+05  0.012789  0.581948  \n",
            "5       79  0.000000e+00  0.000000  0.000000  \n",
            "6        0  1.242849e+05  0.999997  1.000000  \n",
            "7      213  5.615052e+03  0.009343  0.101266  \n",
            "8      280  2.276805e+05  0.193793  0.637306  \n",
            "9       66  5.896138e+04  0.094203  0.507463  \n",
            "10     212  7.434655e+04  0.007978  0.428571  \n",
            "11    1630  1.292177e+05  0.002823  0.333606  \n",
            "12     745 -1.912616e+04 -0.001067  0.355536  \n",
            "13    1532  7.902347e+04  0.002272  0.343616  \n",
            "14     732  4.551432e+04  0.002082  0.426782  \n",
            "15     241 -7.112182e+04 -0.021314  0.303468  \n",
            "16     223  0.000000e+00  0.000000  0.000000  \n",
            "17    3765  3.671662e+05  0.001631  0.370507  \n",
            "18    1976  1.630477e+05  0.001336  0.376459  \n",
            "19    1122  3.813305e+05  0.005469  0.554231  \n",
            "20     128  1.989006e+05  0.344307  0.420814  \n",
            "21     226  5.735853e+02  0.000974  0.004405  \n",
            "22     153  1.445143e+05  0.228753  0.645012  \n",
            "23     428  2.107772e+04  0.020601  0.122951  \n",
            "24      57 -4.526698e+03 -0.032047  0.000000  \n",
            "25     445  1.753414e+05  0.017699  0.840958  \n",
            "26     235  4.484731e+04  0.014845  0.753669  \n",
            "27      15  7.615142e+01  0.006852  0.166667  \n",
            "28      39 -4.825496e+03 -0.016668  0.204082  \n",
            "29      78  1.171768e+01  0.000087  0.025000  \n",
            "30      36  2.584153e+02  0.002572  0.345455  \n",
            "31     154  5.710891e+04  0.007777  0.481481  \n",
            "32     973  1.296011e+04  0.003138  0.319580  \n",
            "33      74  6.224108e+02  0.001966  0.075000  \n",
            "34      85  2.092551e+04  0.032514  0.552632  \n",
            "35      80  8.129341e+03  0.027675  0.349593  \n",
            "36      94  3.816835e+04  0.090143  0.447059  \n"
          ]
        }
      ]
    },
    {
      "cell_type": "markdown",
      "source": [
        "# 4. Contrarian Detection"
      ],
      "metadata": {
        "id": "VlWEscDi1KA5"
      }
    },
    {
      "cell_type": "code",
      "source": [
        "# Define contrarians as traders with positive ROI in Fear/extreme fear while others lose\n",
        "fear_classes = ['Fear', 'Extreme Fear']"
      ],
      "metadata": {
        "id": "ZEVEvhUb02q5"
      },
      "execution_count": 28,
      "outputs": []
    },
    {
      "cell_type": "code",
      "source": [
        "# Calculate mean ROI per sentiment class overall\n",
        "mean_roi_by_sentiment = segmented_metrics.groupby('classification')['Avg_ROI'].mean()"
      ],
      "metadata": {
        "id": "6qdKbR1Y1cTH"
      },
      "execution_count": 29,
      "outputs": []
    },
    {
      "cell_type": "code",
      "source": [
        "# Traders who have positive ROI in fear classes where average ROI is negative\n",
        "contrarians = segmented_metrics[\n",
        "    (segmented_metrics['classification'].isin(fear_classes)) &\n",
        "    (segmented_metrics['Avg_ROI'] > 0)\n",
        "]"
      ],
      "metadata": {
        "id": "UGJq-caO1eyY"
      },
      "execution_count": 30,
      "outputs": []
    },
    {
      "cell_type": "code",
      "source": [
        "contrarians = contrarians[contrarians.apply(\n",
        "    lambda row: row['Avg_ROI'] > mean_roi_by_sentiment.get(row['classification'], 0), axis=1\n",
        ")]"
      ],
      "metadata": {
        "id": "GRO6Drqf1lZt"
      },
      "execution_count": 31,
      "outputs": []
    },
    {
      "cell_type": "code",
      "source": [
        "print(contrarians)"
      ],
      "metadata": {
        "colab": {
          "base_uri": "https://localhost:8080/"
        },
        "id": "Qpgl-vit1n5m",
        "outputId": "2eb68c48-0951-471c-cb39-fd100db1e99d"
      },
      "execution_count": 32,
      "outputs": [
        {
          "output_type": "stream",
          "name": "stdout",
          "text": [
            "                                       Account classification  Trades  Wins  \\\n",
            "0   0x083384f897ee0f19899168e3b1bec365f52a9012   Extreme Fear     100    37   \n",
            "20  0x72c6a4624e1dffa724e6d00d64ceae698af892a0   Extreme Fear     221    93   \n",
            "22  0x72c6a4624e1dffa724e6d00d64ceae698af892a0           Fear     431   278   \n",
            "\n",
            "    Losses      Total_PnL   Avg_ROI  Win Rate  \n",
            "0       63  124769.221441  0.082788  0.370000  \n",
            "20     128  198900.561610  0.344307  0.420814  \n",
            "22     153  144514.344600  0.228753  0.645012  \n"
          ]
        }
      ]
    },
    {
      "cell_type": "markdown",
      "source": [
        "# 5. Trader Ranking System"
      ],
      "metadata": {
        "id": "sokFQru710N-"
      }
    },
    {
      "cell_type": "code",
      "source": [
        "# Simple scoring: weighted sum of metrics across sentiment classes\n",
        "# Example weights - tune as needed\n",
        "weights = {\n",
        "    'Win Rate': 0.15,\n",
        "    'Sharpe Ratio': 0.35,\n",
        "    'ROI': 0.25,\n",
        "    'Trade Frequency (trades/day)': 0.1\n",
        "}"
      ],
      "metadata": {
        "id": "_9CpB30E1pvo"
      },
      "execution_count": 33,
      "outputs": []
    },
    {
      "cell_type": "code",
      "source": [
        "# Merge trader_metrics_df with segmented metrics averaged across sentiment classes\n",
        "avg_segmented = segmented_metrics.groupby('Account').agg({\n",
        "    'Win Rate': 'mean',\n",
        "    'Total_PnL': 'sum',\n",
        "    'Avg_ROI': 'mean',\n",
        "    'Trades': 'sum'\n",
        "}).reset_index()"
      ],
      "metadata": {
        "id": "6bfXxS7m18Wg"
      },
      "execution_count": 34,
      "outputs": []
    },
    {
      "cell_type": "code",
      "source": [
        "# Add Sharpe and Trade Frequency from trader_metrics_df\n",
        "ranking_df = pd.merge(avg_segmented, trader_metrics_df[['Account', 'Sharpe Ratio', 'Trade Frequency (trades/day)']], on='Account')"
      ],
      "metadata": {
        "id": "CkwRwJMV1_So"
      },
      "execution_count": 35,
      "outputs": []
    },
    {
      "cell_type": "code",
      "source": [
        "# Compute Score\n",
        "ranking_df['Score'] = (\n",
        "    ranking_df['Win Rate'] * weights['Win Rate'] +\n",
        "    ranking_df['Sharpe Ratio'].fillna(0) * weights['Sharpe Ratio'] +\n",
        "    ranking_df['Avg_ROI'].fillna(0) * weights['ROI'] +\n",
        "    ranking_df['Trade Frequency (trades/day)'].fillna(0) * weights['Trade Frequency (trades/day)']\n",
        ")\n",
        "\n",
        "ranking_df = ranking_df.sort_values('Score', ascending=False)"
      ],
      "metadata": {
        "id": "pzmWdybo2C0C"
      },
      "execution_count": 36,
      "outputs": []
    },
    {
      "cell_type": "code",
      "source": [
        "print(ranking_df.head())"
      ],
      "metadata": {
        "colab": {
          "base_uri": "https://localhost:8080/"
        },
        "id": "YTJY0anr2GNQ",
        "outputId": "50f68d60-f576-4531-ddd0-47ec4cda927a"
      },
      "execution_count": 37,
      "outputs": [
        {
          "output_type": "stream",
          "name": "stdout",
          "text": [
            "                                      Account  Win Rate     Total_PnL  \\\n",
            "3  0x513b8629fe877bb581bf244e326a047b249c4ff1  0.320933  8.404226e+05   \n",
            "0  0x083384f897ee0f19899168e3b1bec365f52a9012  0.341065  1.600230e+06   \n",
            "2  0x4f93fead39b70a1824f981a54d4e55b278e9f760  0.377622  3.089759e+05   \n",
            "6  0x8381e6d82f1affd39a336e143e081ef7620a3b7f  0.275120  6.551366e+04   \n",
            "5  0x75f7eeb85dc639d5e99c78f95393aa9a5f1170d4  0.587098  2.202649e+05   \n",
            "\n",
            "    Avg_ROI  Trades  Sharpe Ratio  Trade Frequency (trades/day)     Score  \n",
            "3 -0.002576   12236           NaN                     84.972222  8.544718  \n",
            "0  0.032139    3818           NaN                     24.954248  2.554619  \n",
            "2  0.002817    7584           NaN                     18.274699  1.884818  \n",
            "6 -0.000619    1911           NaN                     12.572368  1.298350  \n",
            "5  0.013132    3770           NaN                     11.223214  1.213669  \n"
          ]
        }
      ]
    },
    {
      "cell_type": "markdown",
      "source": [
        "# 6. Visualization"
      ],
      "metadata": {
        "id": "vuuXk7WJ2NIf"
      }
    },
    {
      "cell_type": "code",
      "source": [
        "# Example: ROI by sentiment class for top traders\n",
        "top_traders = ranking_df.head(10)['Account']\n",
        "filtered = segmented_metrics[segmented_metrics['Account'].isin(top_traders)]\n",
        "\n",
        "fig = px.bar(filtered, x='classification', y='Avg_ROI', color='Account',\n",
        "             title='Top Traders ROI by Market Sentiment',\n",
        "             labels={'classification': 'Market Sentiment', 'Avg_ROI': 'Average ROI'})\n",
        "fig.show()"
      ],
      "metadata": {
        "colab": {
          "base_uri": "https://localhost:8080/",
          "height": 542
        },
        "id": "wztafUl22H9M",
        "outputId": "c878d59a-1b56-4f25-ae4c-34e24eb047d1"
      },
      "execution_count": 38,
      "outputs": [
        {
          "output_type": "display_data",
          "data": {
            "text/html": [
              "<html>\n",
              "<head><meta charset=\"utf-8\" /></head>\n",
              "<body>\n",
              "    <div>            <script src=\"https://cdnjs.cloudflare.com/ajax/libs/mathjax/2.7.5/MathJax.js?config=TeX-AMS-MML_SVG\"></script><script type=\"text/javascript\">if (window.MathJax && window.MathJax.Hub && window.MathJax.Hub.Config) {window.MathJax.Hub.Config({SVG: {font: \"STIX-Web\"}});}</script>                <script type=\"text/javascript\">window.PlotlyConfig = {MathJaxConfig: 'local'};</script>\n",
              "        <script charset=\"utf-8\" src=\"https://cdn.plot.ly/plotly-2.35.2.min.js\"></script>                <div id=\"2fd8c817-9b94-4c80-89cd-a1cc2a95070e\" class=\"plotly-graph-div\" style=\"height:525px; width:100%;\"></div>            <script type=\"text/javascript\">                                    window.PLOTLYENV=window.PLOTLYENV || {};                                    if (document.getElementById(\"2fd8c817-9b94-4c80-89cd-a1cc2a95070e\")) {                    Plotly.newPlot(                        \"2fd8c817-9b94-4c80-89cd-a1cc2a95070e\",                        [{\"alignmentgroup\":\"True\",\"hovertemplate\":\"Account=0x083384f897ee0f19899168e3b1bec365f52a9012\\u003cbr\\u003eMarket Sentiment=%{x}\\u003cbr\\u003eAverage ROI=%{y}\\u003cextra\\u003e\\u003c\\u002fextra\\u003e\",\"legendgroup\":\"0x083384f897ee0f19899168e3b1bec365f52a9012\",\"marker\":{\"color\":\"#636efa\",\"pattern\":{\"shape\":\"\"}},\"name\":\"0x083384f897ee0f19899168e3b1bec365f52a9012\",\"offsetgroup\":\"0x083384f897ee0f19899168e3b1bec365f52a9012\",\"orientation\":\"v\",\"showlegend\":true,\"textposition\":\"auto\",\"x\":[\"Extreme Fear\",\"Extreme Greed\",\"Fear\",\"Greed\",\"Neutral\"],\"xaxis\":\"x\",\"y\":[0.08278757232014317,-0.003528630447725343,0.036790607484458185,0.031854444799552704,0.012788976436936886],\"yaxis\":\"y\",\"type\":\"bar\"},{\"alignmentgroup\":\"True\",\"hovertemplate\":\"Account=0x430f09841d65beb3f27765503d0f850b8bce7713\\u003cbr\\u003eMarket Sentiment=%{x}\\u003cbr\\u003eAverage ROI=%{y}\\u003cextra\\u003e\\u003c\\u002fextra\\u003e\",\"legendgroup\":\"0x430f09841d65beb3f27765503d0f850b8bce7713\",\"marker\":{\"color\":\"#EF553B\",\"pattern\":{\"shape\":\"\"}},\"name\":\"0x430f09841d65beb3f27765503d0f850b8bce7713\",\"offsetgroup\":\"0x430f09841d65beb3f27765503d0f850b8bce7713\",\"orientation\":\"v\",\"showlegend\":true,\"textposition\":\"auto\",\"x\":[\"Extreme Fear\",\"Extreme Greed\",\"Fear\",\"Greed\",\"Neutral\"],\"xaxis\":\"x\",\"y\":[0.0,0.9999968522031641,0.00934264153841646,0.19379336693585714,0.09420293968285061],\"yaxis\":\"y\",\"type\":\"bar\"},{\"alignmentgroup\":\"True\",\"hovertemplate\":\"Account=0x4f93fead39b70a1824f981a54d4e55b278e9f760\\u003cbr\\u003eMarket Sentiment=%{x}\\u003cbr\\u003eAverage ROI=%{y}\\u003cextra\\u003e\\u003c\\u002fextra\\u003e\",\"legendgroup\":\"0x4f93fead39b70a1824f981a54d4e55b278e9f760\",\"marker\":{\"color\":\"#00cc96\",\"pattern\":{\"shape\":\"\"}},\"name\":\"0x4f93fead39b70a1824f981a54d4e55b278e9f760\",\"offsetgroup\":\"0x4f93fead39b70a1824f981a54d4e55b278e9f760\",\"orientation\":\"v\",\"showlegend\":true,\"textposition\":\"auto\",\"x\":[\"Extreme Fear\",\"Extreme Greed\",\"Fear\",\"Greed\",\"Neutral\"],\"xaxis\":\"x\",\"y\":[0.007977753103121784,0.002822775357294136,-0.001066736397461443,0.0022718373812307987,0.0020818039611058096],\"yaxis\":\"y\",\"type\":\"bar\"},{\"alignmentgroup\":\"True\",\"hovertemplate\":\"Account=0x513b8629fe877bb581bf244e326a047b249c4ff1\\u003cbr\\u003eMarket Sentiment=%{x}\\u003cbr\\u003eAverage ROI=%{y}\\u003cextra\\u003e\\u003c\\u002fextra\\u003e\",\"legendgroup\":\"0x513b8629fe877bb581bf244e326a047b249c4ff1\",\"marker\":{\"color\":\"#ab63fa\",\"pattern\":{\"shape\":\"\"}},\"name\":\"0x513b8629fe877bb581bf244e326a047b249c4ff1\",\"offsetgroup\":\"0x513b8629fe877bb581bf244e326a047b249c4ff1\",\"orientation\":\"v\",\"showlegend\":true,\"textposition\":\"auto\",\"x\":[\"Extreme Fear\",\"Extreme Greed\",\"Fear\",\"Greed\",\"Neutral\"],\"xaxis\":\"x\",\"y\":[-0.021314192610672477,0.0,0.0016312188731758758,0.0013364639477059213,0.005468980752735765],\"yaxis\":\"y\",\"type\":\"bar\"},{\"alignmentgroup\":\"True\",\"hovertemplate\":\"Account=0x72c6a4624e1dffa724e6d00d64ceae698af892a0\\u003cbr\\u003eMarket Sentiment=%{x}\\u003cbr\\u003eAverage ROI=%{y}\\u003cextra\\u003e\\u003c\\u002fextra\\u003e\",\"legendgroup\":\"0x72c6a4624e1dffa724e6d00d64ceae698af892a0\",\"marker\":{\"color\":\"#FFA15A\",\"pattern\":{\"shape\":\"\"}},\"name\":\"0x72c6a4624e1dffa724e6d00d64ceae698af892a0\",\"offsetgroup\":\"0x72c6a4624e1dffa724e6d00d64ceae698af892a0\",\"orientation\":\"v\",\"showlegend\":true,\"textposition\":\"auto\",\"x\":[\"Extreme Fear\",\"Extreme Greed\",\"Fear\",\"Greed\",\"Neutral\"],\"xaxis\":\"x\",\"y\":[0.3443071179141744,0.0009744111605148958,0.22875316746180185,0.020600916411983708,-0.03204714599279213],\"yaxis\":\"y\",\"type\":\"bar\"},{\"alignmentgroup\":\"True\",\"hovertemplate\":\"Account=0x75f7eeb85dc639d5e99c78f95393aa9a5f1170d4\\u003cbr\\u003eMarket Sentiment=%{x}\\u003cbr\\u003eAverage ROI=%{y}\\u003cextra\\u003e\\u003c\\u002fextra\\u003e\",\"legendgroup\":\"0x75f7eeb85dc639d5e99c78f95393aa9a5f1170d4\",\"marker\":{\"color\":\"#19d3f3\",\"pattern\":{\"shape\":\"\"}},\"name\":\"0x75f7eeb85dc639d5e99c78f95393aa9a5f1170d4\",\"offsetgroup\":\"0x75f7eeb85dc639d5e99c78f95393aa9a5f1170d4\",\"orientation\":\"v\",\"showlegend\":true,\"textposition\":\"auto\",\"x\":[\"Extreme Greed\",\"Greed\",\"Neutral\"],\"xaxis\":\"x\",\"y\":[0.01769947077529405,0.014845393689916752,0.006852388888089032],\"yaxis\":\"y\",\"type\":\"bar\"},{\"alignmentgroup\":\"True\",\"hovertemplate\":\"Account=0x8381e6d82f1affd39a336e143e081ef7620a3b7f\\u003cbr\\u003eMarket Sentiment=%{x}\\u003cbr\\u003eAverage ROI=%{y}\\u003cextra\\u003e\\u003c\\u002fextra\\u003e\",\"legendgroup\":\"0x8381e6d82f1affd39a336e143e081ef7620a3b7f\",\"marker\":{\"color\":\"#FF6692\",\"pattern\":{\"shape\":\"\"}},\"name\":\"0x8381e6d82f1affd39a336e143e081ef7620a3b7f\",\"offsetgroup\":\"0x8381e6d82f1affd39a336e143e081ef7620a3b7f\",\"orientation\":\"v\",\"showlegend\":true,\"textposition\":\"auto\",\"x\":[\"Extreme Fear\",\"Extreme Greed\",\"Fear\",\"Greed\",\"Neutral\"],\"xaxis\":\"x\",\"y\":[-0.016668031144630883,0.00008666198362473666,0.002571821928218577,0.007776949759462026,0.0031375697796800967],\"yaxis\":\"y\",\"type\":\"bar\"},{\"alignmentgroup\":\"True\",\"hovertemplate\":\"Account=0xae5eacaf9c6b9111fd53034a602c192a04e082ed\\u003cbr\\u003eMarket Sentiment=%{x}\\u003cbr\\u003eAverage ROI=%{y}\\u003cextra\\u003e\\u003c\\u002fextra\\u003e\",\"legendgroup\":\"0xae5eacaf9c6b9111fd53034a602c192a04e082ed\",\"marker\":{\"color\":\"#B6E880\",\"pattern\":{\"shape\":\"\"}},\"name\":\"0xae5eacaf9c6b9111fd53034a602c192a04e082ed\",\"offsetgroup\":\"0xae5eacaf9c6b9111fd53034a602c192a04e082ed\",\"orientation\":\"v\",\"showlegend\":true,\"textposition\":\"auto\",\"x\":[\"Extreme Fear\",\"Extreme Greed\",\"Fear\",\"Greed\"],\"xaxis\":\"x\",\"y\":[0.001965514068229377,0.03251350838580893,0.02767498240470506,0.09014251766079506],\"yaxis\":\"y\",\"type\":\"bar\"}],                        {\"template\":{\"data\":{\"histogram2dcontour\":[{\"type\":\"histogram2dcontour\",\"colorbar\":{\"outlinewidth\":0,\"ticks\":\"\"},\"colorscale\":[[0.0,\"#0d0887\"],[0.1111111111111111,\"#46039f\"],[0.2222222222222222,\"#7201a8\"],[0.3333333333333333,\"#9c179e\"],[0.4444444444444444,\"#bd3786\"],[0.5555555555555556,\"#d8576b\"],[0.6666666666666666,\"#ed7953\"],[0.7777777777777778,\"#fb9f3a\"],[0.8888888888888888,\"#fdca26\"],[1.0,\"#f0f921\"]]}],\"choropleth\":[{\"type\":\"choropleth\",\"colorbar\":{\"outlinewidth\":0,\"ticks\":\"\"}}],\"histogram2d\":[{\"type\":\"histogram2d\",\"colorbar\":{\"outlinewidth\":0,\"ticks\":\"\"},\"colorscale\":[[0.0,\"#0d0887\"],[0.1111111111111111,\"#46039f\"],[0.2222222222222222,\"#7201a8\"],[0.3333333333333333,\"#9c179e\"],[0.4444444444444444,\"#bd3786\"],[0.5555555555555556,\"#d8576b\"],[0.6666666666666666,\"#ed7953\"],[0.7777777777777778,\"#fb9f3a\"],[0.8888888888888888,\"#fdca26\"],[1.0,\"#f0f921\"]]}],\"heatmap\":[{\"type\":\"heatmap\",\"colorbar\":{\"outlinewidth\":0,\"ticks\":\"\"},\"colorscale\":[[0.0,\"#0d0887\"],[0.1111111111111111,\"#46039f\"],[0.2222222222222222,\"#7201a8\"],[0.3333333333333333,\"#9c179e\"],[0.4444444444444444,\"#bd3786\"],[0.5555555555555556,\"#d8576b\"],[0.6666666666666666,\"#ed7953\"],[0.7777777777777778,\"#fb9f3a\"],[0.8888888888888888,\"#fdca26\"],[1.0,\"#f0f921\"]]}],\"heatmapgl\":[{\"type\":\"heatmapgl\",\"colorbar\":{\"outlinewidth\":0,\"ticks\":\"\"},\"colorscale\":[[0.0,\"#0d0887\"],[0.1111111111111111,\"#46039f\"],[0.2222222222222222,\"#7201a8\"],[0.3333333333333333,\"#9c179e\"],[0.4444444444444444,\"#bd3786\"],[0.5555555555555556,\"#d8576b\"],[0.6666666666666666,\"#ed7953\"],[0.7777777777777778,\"#fb9f3a\"],[0.8888888888888888,\"#fdca26\"],[1.0,\"#f0f921\"]]}],\"contourcarpet\":[{\"type\":\"contourcarpet\",\"colorbar\":{\"outlinewidth\":0,\"ticks\":\"\"}}],\"contour\":[{\"type\":\"contour\",\"colorbar\":{\"outlinewidth\":0,\"ticks\":\"\"},\"colorscale\":[[0.0,\"#0d0887\"],[0.1111111111111111,\"#46039f\"],[0.2222222222222222,\"#7201a8\"],[0.3333333333333333,\"#9c179e\"],[0.4444444444444444,\"#bd3786\"],[0.5555555555555556,\"#d8576b\"],[0.6666666666666666,\"#ed7953\"],[0.7777777777777778,\"#fb9f3a\"],[0.8888888888888888,\"#fdca26\"],[1.0,\"#f0f921\"]]}],\"surface\":[{\"type\":\"surface\",\"colorbar\":{\"outlinewidth\":0,\"ticks\":\"\"},\"colorscale\":[[0.0,\"#0d0887\"],[0.1111111111111111,\"#46039f\"],[0.2222222222222222,\"#7201a8\"],[0.3333333333333333,\"#9c179e\"],[0.4444444444444444,\"#bd3786\"],[0.5555555555555556,\"#d8576b\"],[0.6666666666666666,\"#ed7953\"],[0.7777777777777778,\"#fb9f3a\"],[0.8888888888888888,\"#fdca26\"],[1.0,\"#f0f921\"]]}],\"mesh3d\":[{\"type\":\"mesh3d\",\"colorbar\":{\"outlinewidth\":0,\"ticks\":\"\"}}],\"scatter\":[{\"fillpattern\":{\"fillmode\":\"overlay\",\"size\":10,\"solidity\":0.2},\"type\":\"scatter\"}],\"parcoords\":[{\"type\":\"parcoords\",\"line\":{\"colorbar\":{\"outlinewidth\":0,\"ticks\":\"\"}}}],\"scatterpolargl\":[{\"type\":\"scatterpolargl\",\"marker\":{\"colorbar\":{\"outlinewidth\":0,\"ticks\":\"\"}}}],\"bar\":[{\"error_x\":{\"color\":\"#2a3f5f\"},\"error_y\":{\"color\":\"#2a3f5f\"},\"marker\":{\"line\":{\"color\":\"#E5ECF6\",\"width\":0.5},\"pattern\":{\"fillmode\":\"overlay\",\"size\":10,\"solidity\":0.2}},\"type\":\"bar\"}],\"scattergeo\":[{\"type\":\"scattergeo\",\"marker\":{\"colorbar\":{\"outlinewidth\":0,\"ticks\":\"\"}}}],\"scatterpolar\":[{\"type\":\"scatterpolar\",\"marker\":{\"colorbar\":{\"outlinewidth\":0,\"ticks\":\"\"}}}],\"histogram\":[{\"marker\":{\"pattern\":{\"fillmode\":\"overlay\",\"size\":10,\"solidity\":0.2}},\"type\":\"histogram\"}],\"scattergl\":[{\"type\":\"scattergl\",\"marker\":{\"colorbar\":{\"outlinewidth\":0,\"ticks\":\"\"}}}],\"scatter3d\":[{\"type\":\"scatter3d\",\"line\":{\"colorbar\":{\"outlinewidth\":0,\"ticks\":\"\"}},\"marker\":{\"colorbar\":{\"outlinewidth\":0,\"ticks\":\"\"}}}],\"scattermapbox\":[{\"type\":\"scattermapbox\",\"marker\":{\"colorbar\":{\"outlinewidth\":0,\"ticks\":\"\"}}}],\"scatterternary\":[{\"type\":\"scatterternary\",\"marker\":{\"colorbar\":{\"outlinewidth\":0,\"ticks\":\"\"}}}],\"scattercarpet\":[{\"type\":\"scattercarpet\",\"marker\":{\"colorbar\":{\"outlinewidth\":0,\"ticks\":\"\"}}}],\"carpet\":[{\"aaxis\":{\"endlinecolor\":\"#2a3f5f\",\"gridcolor\":\"white\",\"linecolor\":\"white\",\"minorgridcolor\":\"white\",\"startlinecolor\":\"#2a3f5f\"},\"baxis\":{\"endlinecolor\":\"#2a3f5f\",\"gridcolor\":\"white\",\"linecolor\":\"white\",\"minorgridcolor\":\"white\",\"startlinecolor\":\"#2a3f5f\"},\"type\":\"carpet\"}],\"table\":[{\"cells\":{\"fill\":{\"color\":\"#EBF0F8\"},\"line\":{\"color\":\"white\"}},\"header\":{\"fill\":{\"color\":\"#C8D4E3\"},\"line\":{\"color\":\"white\"}},\"type\":\"table\"}],\"barpolar\":[{\"marker\":{\"line\":{\"color\":\"#E5ECF6\",\"width\":0.5},\"pattern\":{\"fillmode\":\"overlay\",\"size\":10,\"solidity\":0.2}},\"type\":\"barpolar\"}],\"pie\":[{\"automargin\":true,\"type\":\"pie\"}]},\"layout\":{\"autotypenumbers\":\"strict\",\"colorway\":[\"#636efa\",\"#EF553B\",\"#00cc96\",\"#ab63fa\",\"#FFA15A\",\"#19d3f3\",\"#FF6692\",\"#B6E880\",\"#FF97FF\",\"#FECB52\"],\"font\":{\"color\":\"#2a3f5f\"},\"hovermode\":\"closest\",\"hoverlabel\":{\"align\":\"left\"},\"paper_bgcolor\":\"white\",\"plot_bgcolor\":\"#E5ECF6\",\"polar\":{\"bgcolor\":\"#E5ECF6\",\"angularaxis\":{\"gridcolor\":\"white\",\"linecolor\":\"white\",\"ticks\":\"\"},\"radialaxis\":{\"gridcolor\":\"white\",\"linecolor\":\"white\",\"ticks\":\"\"}},\"ternary\":{\"bgcolor\":\"#E5ECF6\",\"aaxis\":{\"gridcolor\":\"white\",\"linecolor\":\"white\",\"ticks\":\"\"},\"baxis\":{\"gridcolor\":\"white\",\"linecolor\":\"white\",\"ticks\":\"\"},\"caxis\":{\"gridcolor\":\"white\",\"linecolor\":\"white\",\"ticks\":\"\"}},\"coloraxis\":{\"colorbar\":{\"outlinewidth\":0,\"ticks\":\"\"}},\"colorscale\":{\"sequential\":[[0.0,\"#0d0887\"],[0.1111111111111111,\"#46039f\"],[0.2222222222222222,\"#7201a8\"],[0.3333333333333333,\"#9c179e\"],[0.4444444444444444,\"#bd3786\"],[0.5555555555555556,\"#d8576b\"],[0.6666666666666666,\"#ed7953\"],[0.7777777777777778,\"#fb9f3a\"],[0.8888888888888888,\"#fdca26\"],[1.0,\"#f0f921\"]],\"sequentialminus\":[[0.0,\"#0d0887\"],[0.1111111111111111,\"#46039f\"],[0.2222222222222222,\"#7201a8\"],[0.3333333333333333,\"#9c179e\"],[0.4444444444444444,\"#bd3786\"],[0.5555555555555556,\"#d8576b\"],[0.6666666666666666,\"#ed7953\"],[0.7777777777777778,\"#fb9f3a\"],[0.8888888888888888,\"#fdca26\"],[1.0,\"#f0f921\"]],\"diverging\":[[0,\"#8e0152\"],[0.1,\"#c51b7d\"],[0.2,\"#de77ae\"],[0.3,\"#f1b6da\"],[0.4,\"#fde0ef\"],[0.5,\"#f7f7f7\"],[0.6,\"#e6f5d0\"],[0.7,\"#b8e186\"],[0.8,\"#7fbc41\"],[0.9,\"#4d9221\"],[1,\"#276419\"]]},\"xaxis\":{\"gridcolor\":\"white\",\"linecolor\":\"white\",\"ticks\":\"\",\"title\":{\"standoff\":15},\"zerolinecolor\":\"white\",\"automargin\":true,\"zerolinewidth\":2},\"yaxis\":{\"gridcolor\":\"white\",\"linecolor\":\"white\",\"ticks\":\"\",\"title\":{\"standoff\":15},\"zerolinecolor\":\"white\",\"automargin\":true,\"zerolinewidth\":2},\"scene\":{\"xaxis\":{\"backgroundcolor\":\"#E5ECF6\",\"gridcolor\":\"white\",\"linecolor\":\"white\",\"showbackground\":true,\"ticks\":\"\",\"zerolinecolor\":\"white\",\"gridwidth\":2},\"yaxis\":{\"backgroundcolor\":\"#E5ECF6\",\"gridcolor\":\"white\",\"linecolor\":\"white\",\"showbackground\":true,\"ticks\":\"\",\"zerolinecolor\":\"white\",\"gridwidth\":2},\"zaxis\":{\"backgroundcolor\":\"#E5ECF6\",\"gridcolor\":\"white\",\"linecolor\":\"white\",\"showbackground\":true,\"ticks\":\"\",\"zerolinecolor\":\"white\",\"gridwidth\":2}},\"shapedefaults\":{\"line\":{\"color\":\"#2a3f5f\"}},\"annotationdefaults\":{\"arrowcolor\":\"#2a3f5f\",\"arrowhead\":0,\"arrowwidth\":1},\"geo\":{\"bgcolor\":\"white\",\"landcolor\":\"#E5ECF6\",\"subunitcolor\":\"white\",\"showland\":true,\"showlakes\":true,\"lakecolor\":\"white\"},\"title\":{\"x\":0.05},\"mapbox\":{\"style\":\"light\"}}},\"xaxis\":{\"anchor\":\"y\",\"domain\":[0.0,1.0],\"title\":{\"text\":\"Market Sentiment\"}},\"yaxis\":{\"anchor\":\"x\",\"domain\":[0.0,1.0],\"title\":{\"text\":\"Average ROI\"}},\"legend\":{\"title\":{\"text\":\"Account\"},\"tracegroupgap\":0},\"title\":{\"text\":\"Top Traders ROI by Market Sentiment\"},\"barmode\":\"relative\"},                        {\"responsive\": true}                    ).then(function(){\n",
              "                            \n",
              "var gd = document.getElementById('2fd8c817-9b94-4c80-89cd-a1cc2a95070e');\n",
              "var x = new MutationObserver(function (mutations, observer) {{\n",
              "        var display = window.getComputedStyle(gd).display;\n",
              "        if (!display || display === 'none') {{\n",
              "            console.log([gd, 'removed!']);\n",
              "            Plotly.purge(gd);\n",
              "            observer.disconnect();\n",
              "        }}\n",
              "}});\n",
              "\n",
              "// Listen for the removal of the full notebook cells\n",
              "var notebookContainer = gd.closest('#notebook-container');\n",
              "if (notebookContainer) {{\n",
              "    x.observe(notebookContainer, {childList: true});\n",
              "}}\n",
              "\n",
              "// Listen for the clearing of the current output cell\n",
              "var outputEl = gd.closest('.output');\n",
              "if (outputEl) {{\n",
              "    x.observe(outputEl, {childList: true});\n",
              "}}\n",
              "\n",
              "                        })                };                            </script>        </div>\n",
              "</body>\n",
              "</html>"
            ]
          },
          "metadata": {}
        }
      ]
    },
    {
      "cell_type": "code",
      "source": [
        "# Time series of sentiment vs aggregated PnL\n",
        "daily_pnl = merged_df.groupby('date')['Closed PnL'].sum().reset_index()\n",
        "daily_sentiment = sentiment_df.groupby('date')['value'].mean().reset_index()\n",
        "\n",
        "fig2 = px.line()\n",
        "fig2.add_scatter(x=daily_sentiment['date'], y=daily_sentiment['value'], mode='lines', name='Sentiment Index')\n",
        "fig2.add_scatter(x=daily_pnl['date'], y=daily_pnl['Closed PnL'], mode='lines', name='Aggregated PnL')\n",
        "fig2.update_layout(title='Daily Market Sentiment vs Aggregated Trader PnL', yaxis_title='Value')\n",
        "fig2.show()"
      ],
      "metadata": {
        "colab": {
          "base_uri": "https://localhost:8080/",
          "height": 542
        },
        "id": "huF_gZu32Y9k",
        "outputId": "a0c96b61-6826-4e7e-ca93-d2fc621f97b8"
      },
      "execution_count": 39,
      "outputs": [
        {
          "output_type": "display_data",
          "data": {
            "text/html": [
              "<html>\n",
              "<head><meta charset=\"utf-8\" /></head>\n",
              "<body>\n",
              "    <div>            <script src=\"https://cdnjs.cloudflare.com/ajax/libs/mathjax/2.7.5/MathJax.js?config=TeX-AMS-MML_SVG\"></script><script type=\"text/javascript\">if (window.MathJax && window.MathJax.Hub && window.MathJax.Hub.Config) {window.MathJax.Hub.Config({SVG: {font: \"STIX-Web\"}});}</script>                <script type=\"text/javascript\">window.PlotlyConfig = {MathJaxConfig: 'local'};</script>\n",
              "        <script charset=\"utf-8\" src=\"https://cdn.plot.ly/plotly-2.35.2.min.js\"></script>                <div id=\"97a50f98-f356-471c-a27f-6e6cd558267f\" class=\"plotly-graph-div\" style=\"height:525px; width:100%;\"></div>            <script type=\"text/javascript\">                                    window.PLOTLYENV=window.PLOTLYENV || {};                                    if (document.getElementById(\"97a50f98-f356-471c-a27f-6e6cd558267f\")) {                    Plotly.newPlot(                        \"97a50f98-f356-471c-a27f-6e6cd558267f\",                        [{\"hovertemplate\":\"\\u003cextra\\u003e\\u003c\\u002fextra\\u003e\",\"legendgroup\":\"\",\"line\":{\"color\":\"#636efa\",\"dash\":\"solid\"},\"marker\":{\"symbol\":\"circle\"},\"mode\":\"lines\",\"name\":\"\",\"orientation\":\"v\",\"showlegend\":false,\"xaxis\":\"x\",\"yaxis\":\"y\",\"type\":\"scatter\"},{\"mode\":\"lines\",\"name\":\"Sentiment Index\",\"x\":[\"2018-02-01\",\"2018-02-02\",\"2018-02-03\",\"2018-02-04\",\"2018-02-05\",\"2018-02-06\",\"2018-02-07\",\"2018-02-08\",\"2018-02-09\",\"2018-02-10\",\"2018-02-11\",\"2018-02-12\",\"2018-02-13\",\"2018-02-14\",\"2018-02-15\",\"2018-02-16\",\"2018-02-17\",\"2018-02-18\",\"2018-02-19\",\"2018-02-20\",\"2018-02-21\",\"2018-02-22\",\"2018-02-23\",\"2018-02-24\",\"2018-02-25\",\"2018-02-26\",\"2018-02-27\",\"2018-02-28\",\"2018-03-01\",\"2018-03-02\",\"2018-03-03\",\"2018-03-04\",\"2018-03-05\",\"2018-03-06\",\"2018-03-07\",\"2018-03-08\",\"2018-03-09\",\"2018-03-10\",\"2018-03-11\",\"2018-03-12\",\"2018-03-13\",\"2018-03-14\",\"2018-03-15\",\"2018-03-16\",\"2018-03-17\",\"2018-03-18\",\"2018-03-19\",\"2018-03-20\",\"2018-03-21\",\"2018-03-22\",\"2018-03-23\",\"2018-03-24\",\"2018-03-25\",\"2018-03-26\",\"2018-03-27\",\"2018-03-28\",\"2018-03-29\",\"2018-03-30\",\"2018-03-31\",\"2018-04-01\",\"2018-04-02\",\"2018-04-03\",\"2018-04-04\",\"2018-04-05\",\"2018-04-06\",\"2018-04-07\",\"2018-04-08\",\"2018-04-09\",\"2018-04-10\",\"2018-04-11\",\"2018-04-12\",\"2018-04-13\",\"2018-04-17\",\"2018-04-18\",\"2018-04-19\",\"2018-04-20\",\"2018-04-21\",\"2018-04-22\",\"2018-04-23\",\"2018-04-24\",\"2018-04-25\",\"2018-04-26\",\"2018-04-27\",\"2018-04-28\",\"2018-04-29\",\"2018-04-30\",\"2018-05-01\",\"2018-05-02\",\"2018-05-03\",\"2018-05-04\",\"2018-05-05\",\"2018-05-06\",\"2018-05-07\",\"2018-05-08\",\"2018-05-09\",\"2018-05-10\",\"2018-05-11\",\"2018-05-12\",\"2018-05-13\",\"2018-05-14\",\"2018-05-15\",\"2018-05-16\",\"2018-05-17\",\"2018-05-18\",\"2018-05-19\",\"2018-05-20\",\"2018-05-21\",\"2018-05-22\",\"2018-05-23\",\"2018-05-24\",\"2018-05-25\",\"2018-05-26\",\"2018-05-27\",\"2018-05-28\",\"2018-05-29\",\"2018-05-30\",\"2018-05-31\",\"2018-06-01\",\"2018-06-02\",\"2018-06-03\",\"2018-06-04\",\"2018-06-05\",\"2018-06-06\",\"2018-06-07\",\"2018-06-08\",\"2018-06-09\",\"2018-06-10\",\"2018-06-11\",\"2018-06-12\",\"2018-06-13\",\"2018-06-14\",\"2018-06-15\",\"2018-06-16\",\"2018-06-17\",\"2018-06-18\",\"2018-06-19\",\"2018-06-20\",\"2018-06-21\",\"2018-06-22\",\"2018-06-23\",\"2018-06-24\",\"2018-06-25\",\"2018-06-26\",\"2018-06-27\",\"2018-06-28\",\"2018-06-29\",\"2018-06-30\",\"2018-07-01\",\"2018-07-02\",\"2018-07-03\",\"2018-07-04\",\"2018-07-05\",\"2018-07-06\",\"2018-07-07\",\"2018-07-08\",\"2018-07-09\",\"2018-07-10\",\"2018-07-11\",\"2018-07-12\",\"2018-07-13\",\"2018-07-14\",\"2018-07-15\",\"2018-07-16\",\"2018-07-17\",\"2018-07-18\",\"2018-07-19\",\"2018-07-20\",\"2018-07-21\",\"2018-07-22\",\"2018-07-23\",\"2018-07-24\",\"2018-07-25\",\"2018-07-26\",\"2018-07-27\",\"2018-07-28\",\"2018-07-29\",\"2018-07-30\",\"2018-07-31\",\"2018-08-01\",\"2018-08-02\",\"2018-08-03\",\"2018-08-04\",\"2018-08-05\",\"2018-08-06\",\"2018-08-07\",\"2018-08-08\",\"2018-08-09\",\"2018-08-10\",\"2018-08-11\",\"2018-08-12\",\"2018-08-13\",\"2018-08-14\",\"2018-08-15\",\"2018-08-16\",\"2018-08-17\",\"2018-08-18\",\"2018-08-19\",\"2018-08-20\",\"2018-08-21\",\"2018-08-22\",\"2018-08-23\",\"2018-08-24\",\"2018-08-25\",\"2018-08-26\",\"2018-08-27\",\"2018-08-28\",\"2018-08-29\",\"2018-08-30\",\"2018-08-31\",\"2018-09-01\",\"2018-09-02\",\"2018-09-03\",\"2018-09-04\",\"2018-09-05\",\"2018-09-06\",\"2018-09-07\",\"2018-09-08\",\"2018-09-09\",\"2018-09-10\",\"2018-09-11\",\"2018-09-12\",\"2018-09-13\",\"2018-09-14\",\"2018-09-15\",\"2018-09-16\",\"2018-09-17\",\"2018-09-18\",\"2018-09-19\",\"2018-09-20\",\"2018-09-21\",\"2018-09-22\",\"2018-09-23\",\"2018-09-24\",\"2018-09-25\",\"2018-09-26\",\"2018-09-27\",\"2018-09-28\",\"2018-09-29\",\"2018-09-30\",\"2018-10-01\",\"2018-10-02\",\"2018-10-03\",\"2018-10-04\",\"2018-10-05\",\"2018-10-06\",\"2018-10-07\",\"2018-10-08\",\"2018-10-09\",\"2018-10-10\",\"2018-10-11\",\"2018-10-12\",\"2018-10-13\",\"2018-10-14\",\"2018-10-15\",\"2018-10-16\",\"2018-10-17\",\"2018-10-18\",\"2018-10-19\",\"2018-10-20\",\"2018-10-21\",\"2018-10-22\",\"2018-10-23\",\"2018-10-24\",\"2018-10-25\",\"2018-10-26\",\"2018-10-27\",\"2018-10-28\",\"2018-10-29\",\"2018-10-30\",\"2018-10-31\",\"2018-11-01\",\"2018-11-02\",\"2018-11-03\",\"2018-11-04\",\"2018-11-05\",\"2018-11-06\",\"2018-11-07\",\"2018-11-08\",\"2018-11-09\",\"2018-11-10\",\"2018-11-11\",\"2018-11-12\",\"2018-11-13\",\"2018-11-14\",\"2018-11-15\",\"2018-11-16\",\"2018-11-17\",\"2018-11-18\",\"2018-11-19\",\"2018-11-20\",\"2018-11-21\",\"2018-11-22\",\"2018-11-23\",\"2018-11-24\",\"2018-11-25\",\"2018-11-26\",\"2018-11-27\",\"2018-11-28\",\"2018-11-29\",\"2018-11-30\",\"2018-12-01\",\"2018-12-02\",\"2018-12-03\",\"2018-12-04\",\"2018-12-05\",\"2018-12-06\",\"2018-12-07\",\"2018-12-08\",\"2018-12-09\",\"2018-12-10\",\"2018-12-11\",\"2018-12-12\",\"2018-12-13\",\"2018-12-14\",\"2018-12-15\",\"2018-12-16\",\"2018-12-17\",\"2018-12-18\",\"2018-12-19\",\"2018-12-20\",\"2018-12-21\",\"2018-12-22\",\"2018-12-23\",\"2018-12-24\",\"2018-12-25\",\"2018-12-26\",\"2018-12-27\",\"2018-12-28\",\"2018-12-29\",\"2018-12-30\",\"2018-12-31\",\"2019-01-01\",\"2019-01-02\",\"2019-01-03\",\"2019-01-04\",\"2019-01-05\",\"2019-01-06\",\"2019-01-07\",\"2019-01-08\",\"2019-01-09\",\"2019-01-10\",\"2019-01-11\",\"2019-01-12\",\"2019-01-13\",\"2019-01-14\",\"2019-01-15\",\"2019-01-16\",\"2019-01-17\",\"2019-01-18\",\"2019-01-19\",\"2019-01-20\",\"2019-01-21\",\"2019-01-22\",\"2019-01-23\",\"2019-01-24\",\"2019-01-25\",\"2019-01-26\",\"2019-01-27\",\"2019-01-28\",\"2019-01-29\",\"2019-01-30\",\"2019-01-31\",\"2019-02-01\",\"2019-02-02\",\"2019-02-03\",\"2019-02-04\",\"2019-02-05\",\"2019-02-06\",\"2019-02-07\",\"2019-02-08\",\"2019-02-09\",\"2019-02-10\",\"2019-02-11\",\"2019-02-12\",\"2019-02-13\",\"2019-02-14\",\"2019-02-15\",\"2019-02-16\",\"2019-02-17\",\"2019-02-18\",\"2019-02-19\",\"2019-02-20\",\"2019-02-21\",\"2019-02-22\",\"2019-02-23\",\"2019-02-24\",\"2019-02-25\",\"2019-02-26\",\"2019-02-27\",\"2019-02-28\",\"2019-03-01\",\"2019-03-02\",\"2019-03-03\",\"2019-03-04\",\"2019-03-05\",\"2019-03-06\",\"2019-03-07\",\"2019-03-08\",\"2019-03-09\",\"2019-03-10\",\"2019-03-11\",\"2019-03-12\",\"2019-03-13\",\"2019-03-14\",\"2019-03-15\",\"2019-03-16\",\"2019-03-17\",\"2019-03-18\",\"2019-03-19\",\"2019-03-20\",\"2019-03-21\",\"2019-03-22\",\"2019-03-23\",\"2019-03-24\",\"2019-03-25\",\"2019-03-26\",\"2019-03-27\",\"2019-03-28\",\"2019-03-29\",\"2019-03-30\",\"2019-03-31\",\"2019-04-01\",\"2019-04-02\",\"2019-04-03\",\"2019-04-04\",\"2019-04-05\",\"2019-04-06\",\"2019-04-07\",\"2019-04-08\",\"2019-04-09\",\"2019-04-10\",\"2019-04-11\",\"2019-04-12\",\"2019-04-13\",\"2019-04-14\",\"2019-04-15\",\"2019-04-16\",\"2019-04-17\",\"2019-04-18\",\"2019-04-19\",\"2019-04-20\",\"2019-04-21\",\"2019-04-22\",\"2019-04-23\",\"2019-04-24\",\"2019-04-25\",\"2019-04-26\",\"2019-04-27\",\"2019-04-28\",\"2019-04-29\",\"2019-04-30\",\"2019-05-01\",\"2019-05-02\",\"2019-05-03\",\"2019-05-04\",\"2019-05-05\",\"2019-05-06\",\"2019-05-07\",\"2019-05-08\",\"2019-05-09\",\"2019-05-10\",\"2019-05-11\",\"2019-05-12\",\"2019-05-13\",\"2019-05-14\",\"2019-05-15\",\"2019-05-16\",\"2019-05-17\",\"2019-05-18\",\"2019-05-19\",\"2019-05-20\",\"2019-05-21\",\"2019-05-22\",\"2019-05-23\",\"2019-05-24\",\"2019-05-25\",\"2019-05-26\",\"2019-05-27\",\"2019-05-28\",\"2019-05-29\",\"2019-05-30\",\"2019-05-31\",\"2019-06-01\",\"2019-06-02\",\"2019-06-03\",\"2019-06-04\",\"2019-06-05\",\"2019-06-06\",\"2019-06-07\",\"2019-06-08\",\"2019-06-09\",\"2019-06-10\",\"2019-06-11\",\"2019-06-12\",\"2019-06-13\",\"2019-06-14\",\"2019-06-15\",\"2019-06-16\",\"2019-06-17\",\"2019-06-18\",\"2019-06-19\",\"2019-06-20\",\"2019-06-21\",\"2019-06-22\",\"2019-06-23\",\"2019-06-24\",\"2019-06-25\",\"2019-06-26\",\"2019-06-27\",\"2019-06-28\",\"2019-06-29\",\"2019-06-30\",\"2019-07-01\",\"2019-07-02\",\"2019-07-03\",\"2019-07-04\",\"2019-07-05\",\"2019-07-06\",\"2019-07-07\",\"2019-07-08\",\"2019-07-09\",\"2019-07-10\",\"2019-07-11\",\"2019-07-12\",\"2019-07-13\",\"2019-07-14\",\"2019-07-15\",\"2019-07-16\",\"2019-07-17\",\"2019-07-18\",\"2019-07-19\",\"2019-07-20\",\"2019-07-21\",\"2019-07-22\",\"2019-07-23\",\"2019-07-24\",\"2019-07-25\",\"2019-07-26\",\"2019-07-27\",\"2019-07-28\",\"2019-07-29\",\"2019-07-30\",\"2019-07-31\",\"2019-08-01\",\"2019-08-02\",\"2019-08-03\",\"2019-08-04\",\"2019-08-05\",\"2019-08-06\",\"2019-08-07\",\"2019-08-08\",\"2019-08-09\",\"2019-08-10\",\"2019-08-11\",\"2019-08-12\",\"2019-08-13\",\"2019-08-14\",\"2019-08-15\",\"2019-08-16\",\"2019-08-17\",\"2019-08-18\",\"2019-08-19\",\"2019-08-20\",\"2019-08-21\",\"2019-08-22\",\"2019-08-23\",\"2019-08-24\",\"2019-08-25\",\"2019-08-26\",\"2019-08-27\",\"2019-08-28\",\"2019-08-29\",\"2019-08-30\",\"2019-08-31\",\"2019-09-01\",\"2019-09-02\",\"2019-09-03\",\"2019-09-04\",\"2019-09-05\",\"2019-09-06\",\"2019-09-07\",\"2019-09-08\",\"2019-09-09\",\"2019-09-10\",\"2019-09-11\",\"2019-09-12\",\"2019-09-13\",\"2019-09-14\",\"2019-09-15\",\"2019-09-16\",\"2019-09-17\",\"2019-09-18\",\"2019-09-19\",\"2019-09-20\",\"2019-09-21\",\"2019-09-22\",\"2019-09-23\",\"2019-09-24\",\"2019-09-25\",\"2019-09-26\",\"2019-09-27\",\"2019-09-28\",\"2019-09-29\",\"2019-09-30\",\"2019-10-01\",\"2019-10-02\",\"2019-10-03\",\"2019-10-04\",\"2019-10-05\",\"2019-10-06\",\"2019-10-07\",\"2019-10-08\",\"2019-10-09\",\"2019-10-10\",\"2019-10-11\",\"2019-10-12\",\"2019-10-13\",\"2019-10-14\",\"2019-10-15\",\"2019-10-16\",\"2019-10-17\",\"2019-10-18\",\"2019-10-19\",\"2019-10-20\",\"2019-10-21\",\"2019-10-22\",\"2019-10-23\",\"2019-10-24\",\"2019-10-25\",\"2019-10-26\",\"2019-10-27\",\"2019-10-28\",\"2019-10-29\",\"2019-10-30\",\"2019-10-31\",\"2019-11-01\",\"2019-11-02\",\"2019-11-03\",\"2019-11-04\",\"2019-11-05\",\"2019-11-06\",\"2019-11-07\",\"2019-11-08\",\"2019-11-09\",\"2019-11-10\",\"2019-11-11\",\"2019-11-12\",\"2019-11-13\",\"2019-11-14\",\"2019-11-15\",\"2019-11-16\",\"2019-11-17\",\"2019-11-18\",\"2019-11-19\",\"2019-11-20\",\"2019-11-21\",\"2019-11-22\",\"2019-11-23\",\"2019-11-24\",\"2019-11-25\",\"2019-11-26\",\"2019-11-27\",\"2019-11-28\",\"2019-11-29\",\"2019-11-30\",\"2019-12-01\",\"2019-12-02\",\"2019-12-03\",\"2019-12-04\",\"2019-12-05\",\"2019-12-06\",\"2019-12-07\",\"2019-12-08\",\"2019-12-09\",\"2019-12-10\",\"2019-12-11\",\"2019-12-12\",\"2019-12-13\",\"2019-12-14\",\"2019-12-15\",\"2019-12-16\",\"2019-12-17\",\"2019-12-18\",\"2019-12-19\",\"2019-12-20\",\"2019-12-21\",\"2019-12-22\",\"2019-12-23\",\"2019-12-24\",\"2019-12-25\",\"2019-12-26\",\"2019-12-27\",\"2019-12-28\",\"2019-12-29\",\"2019-12-30\",\"2019-12-31\",\"2020-01-01\",\"2020-01-02\",\"2020-01-03\",\"2020-01-04\",\"2020-01-05\",\"2020-01-06\",\"2020-01-07\",\"2020-01-08\",\"2020-01-09\",\"2020-01-10\",\"2020-01-11\",\"2020-01-12\",\"2020-01-13\",\"2020-01-14\",\"2020-01-15\",\"2020-01-16\",\"2020-01-17\",\"2020-01-18\",\"2020-01-19\",\"2020-01-20\",\"2020-01-21\",\"2020-01-22\",\"2020-01-23\",\"2020-01-24\",\"2020-01-25\",\"2020-01-26\",\"2020-01-27\",\"2020-01-28\",\"2020-01-29\",\"2020-01-30\",\"2020-01-31\",\"2020-02-01\",\"2020-02-02\",\"2020-02-03\",\"2020-02-04\",\"2020-02-05\",\"2020-02-06\",\"2020-02-07\",\"2020-02-08\",\"2020-02-09\",\"2020-02-10\",\"2020-02-11\",\"2020-02-12\",\"2020-02-13\",\"2020-02-14\",\"2020-02-15\",\"2020-02-16\",\"2020-02-17\",\"2020-02-18\",\"2020-02-19\",\"2020-02-20\",\"2020-02-21\",\"2020-02-22\",\"2020-02-23\",\"2020-02-24\",\"2020-02-25\",\"2020-02-26\",\"2020-02-27\",\"2020-02-28\",\"2020-02-29\",\"2020-03-01\",\"2020-03-02\",\"2020-03-03\",\"2020-03-04\",\"2020-03-05\",\"2020-03-06\",\"2020-03-07\",\"2020-03-08\",\"2020-03-09\",\"2020-03-10\",\"2020-03-11\",\"2020-03-12\",\"2020-03-13\",\"2020-03-14\",\"2020-03-15\",\"2020-03-16\",\"2020-03-17\",\"2020-03-18\",\"2020-03-19\",\"2020-03-20\",\"2020-03-21\",\"2020-03-22\",\"2020-03-23\",\"2020-03-24\",\"2020-03-25\",\"2020-03-26\",\"2020-03-27\",\"2020-03-28\",\"2020-03-29\",\"2020-03-30\",\"2020-03-31\",\"2020-04-01\",\"2020-04-02\",\"2020-04-03\",\"2020-04-04\",\"2020-04-05\",\"2020-04-06\",\"2020-04-07\",\"2020-04-08\",\"2020-04-09\",\"2020-04-10\",\"2020-04-11\",\"2020-04-12\",\"2020-04-13\",\"2020-04-14\",\"2020-04-15\",\"2020-04-16\",\"2020-04-17\",\"2020-04-18\",\"2020-04-19\",\"2020-04-20\",\"2020-04-21\",\"2020-04-22\",\"2020-04-23\",\"2020-04-24\",\"2020-04-25\",\"2020-04-26\",\"2020-04-27\",\"2020-04-28\",\"2020-04-29\",\"2020-04-30\",\"2020-05-01\",\"2020-05-02\",\"2020-05-03\",\"2020-05-04\",\"2020-05-05\",\"2020-05-06\",\"2020-05-07\",\"2020-05-08\",\"2020-05-09\",\"2020-05-10\",\"2020-05-11\",\"2020-05-12\",\"2020-05-13\",\"2020-05-14\",\"2020-05-15\",\"2020-05-16\",\"2020-05-17\",\"2020-05-18\",\"2020-05-19\",\"2020-05-20\",\"2020-05-21\",\"2020-05-22\",\"2020-05-23\",\"2020-05-24\",\"2020-05-25\",\"2020-05-26\",\"2020-05-27\",\"2020-05-28\",\"2020-05-29\",\"2020-05-30\",\"2020-05-31\",\"2020-06-01\",\"2020-06-02\",\"2020-06-03\",\"2020-06-04\",\"2020-06-05\",\"2020-06-06\",\"2020-06-07\",\"2020-06-08\",\"2020-06-09\",\"2020-06-10\",\"2020-06-11\",\"2020-06-12\",\"2020-06-13\",\"2020-06-14\",\"2020-06-15\",\"2020-06-16\",\"2020-06-17\",\"2020-06-18\",\"2020-06-19\",\"2020-06-20\",\"2020-06-21\",\"2020-06-22\",\"2020-06-23\",\"2020-06-24\",\"2020-06-25\",\"2020-06-26\",\"2020-06-27\",\"2020-06-28\",\"2020-06-29\",\"2020-06-30\",\"2020-07-01\",\"2020-07-02\",\"2020-07-03\",\"2020-07-04\",\"2020-07-05\",\"2020-07-06\",\"2020-07-07\",\"2020-07-08\",\"2020-07-09\",\"2020-07-10\",\"2020-07-11\",\"2020-07-12\",\"2020-07-13\",\"2020-07-14\",\"2020-07-15\",\"2020-07-16\",\"2020-07-17\",\"2020-07-18\",\"2020-07-19\",\"2020-07-20\",\"2020-07-21\",\"2020-07-22\",\"2020-07-23\",\"2020-07-24\",\"2020-07-25\",\"2020-07-26\",\"2020-07-27\",\"2020-07-28\",\"2020-07-29\",\"2020-07-30\",\"2020-07-31\",\"2020-08-01\",\"2020-08-02\",\"2020-08-03\",\"2020-08-04\",\"2020-08-05\",\"2020-08-06\",\"2020-08-07\",\"2020-08-08\",\"2020-08-09\",\"2020-08-10\",\"2020-08-11\",\"2020-08-12\",\"2020-08-13\",\"2020-08-14\",\"2020-08-15\",\"2020-08-16\",\"2020-08-17\",\"2020-08-18\",\"2020-08-19\",\"2020-08-20\",\"2020-08-21\",\"2020-08-22\",\"2020-08-23\",\"2020-08-24\",\"2020-08-25\",\"2020-08-26\",\"2020-08-27\",\"2020-08-28\",\"2020-08-29\",\"2020-08-30\",\"2020-08-31\",\"2020-09-01\",\"2020-09-02\",\"2020-09-03\",\"2020-09-04\",\"2020-09-05\",\"2020-09-06\",\"2020-09-07\",\"2020-09-08\",\"2020-09-09\",\"2020-09-10\",\"2020-09-11\",\"2020-09-12\",\"2020-09-13\",\"2020-09-14\",\"2020-09-15\",\"2020-09-16\",\"2020-09-17\",\"2020-09-18\",\"2020-09-19\",\"2020-09-20\",\"2020-09-21\",\"2020-09-22\",\"2020-09-23\",\"2020-09-24\",\"2020-09-25\",\"2020-09-26\",\"2020-09-27\",\"2020-09-28\",\"2020-09-29\",\"2020-09-30\",\"2020-10-01\",\"2020-10-02\",\"2020-10-03\",\"2020-10-04\",\"2020-10-05\",\"2020-10-06\",\"2020-10-07\",\"2020-10-08\",\"2020-10-09\",\"2020-10-10\",\"2020-10-11\",\"2020-10-12\",\"2020-10-13\",\"2020-10-14\",\"2020-10-15\",\"2020-10-16\",\"2020-10-17\",\"2020-10-18\",\"2020-10-19\",\"2020-10-20\",\"2020-10-21\",\"2020-10-22\",\"2020-10-23\",\"2020-10-24\",\"2020-10-25\",\"2020-10-26\",\"2020-10-27\",\"2020-10-28\",\"2020-10-29\",\"2020-10-30\",\"2020-10-31\",\"2020-11-01\",\"2020-11-02\",\"2020-11-03\",\"2020-11-04\",\"2020-11-05\",\"2020-11-06\",\"2020-11-07\",\"2020-11-08\",\"2020-11-09\",\"2020-11-10\",\"2020-11-11\",\"2020-11-12\",\"2020-11-13\",\"2020-11-14\",\"2020-11-15\",\"2020-11-16\",\"2020-11-17\",\"2020-11-18\",\"2020-11-19\",\"2020-11-20\",\"2020-11-21\",\"2020-11-22\",\"2020-11-23\",\"2020-11-24\",\"2020-11-25\",\"2020-11-26\",\"2020-11-27\",\"2020-11-28\",\"2020-11-29\",\"2020-11-30\",\"2020-12-01\",\"2020-12-02\",\"2020-12-03\",\"2020-12-04\",\"2020-12-05\",\"2020-12-06\",\"2020-12-07\",\"2020-12-08\",\"2020-12-09\",\"2020-12-10\",\"2020-12-11\",\"2020-12-12\",\"2020-12-13\",\"2020-12-14\",\"2020-12-15\",\"2020-12-16\",\"2020-12-17\",\"2020-12-18\",\"2020-12-19\",\"2020-12-20\",\"2020-12-21\",\"2020-12-22\",\"2020-12-23\",\"2020-12-24\",\"2020-12-25\",\"2020-12-26\",\"2020-12-27\",\"2020-12-28\",\"2020-12-29\",\"2020-12-30\",\"2020-12-31\",\"2021-01-01\",\"2021-01-02\",\"2021-01-03\",\"2021-01-04\",\"2021-01-05\",\"2021-01-06\",\"2021-01-07\",\"2021-01-08\",\"2021-01-09\",\"2021-01-10\",\"2021-01-11\",\"2021-01-12\",\"2021-01-13\",\"2021-01-14\",\"2021-01-15\",\"2021-01-16\",\"2021-01-17\",\"2021-01-18\",\"2021-01-19\",\"2021-01-20\",\"2021-01-21\",\"2021-01-22\",\"2021-01-23\",\"2021-01-24\",\"2021-01-25\",\"2021-01-26\",\"2021-01-27\",\"2021-01-28\",\"2021-01-29\",\"2021-01-30\",\"2021-01-31\",\"2021-02-01\",\"2021-02-02\",\"2021-02-03\",\"2021-02-04\",\"2021-02-05\",\"2021-02-06\",\"2021-02-07\",\"2021-02-08\",\"2021-02-09\",\"2021-02-10\",\"2021-02-11\",\"2021-02-12\",\"2021-02-13\",\"2021-02-14\",\"2021-02-15\",\"2021-02-16\",\"2021-02-17\",\"2021-02-18\",\"2021-02-19\",\"2021-02-20\",\"2021-02-21\",\"2021-02-22\",\"2021-02-23\",\"2021-02-24\",\"2021-02-25\",\"2021-02-26\",\"2021-02-27\",\"2021-02-28\",\"2021-03-01\",\"2021-03-02\",\"2021-03-03\",\"2021-03-04\",\"2021-03-05\",\"2021-03-06\",\"2021-03-07\",\"2021-03-08\",\"2021-03-09\",\"2021-03-10\",\"2021-03-11\",\"2021-03-12\",\"2021-03-13\",\"2021-03-14\",\"2021-03-15\",\"2021-03-16\",\"2021-03-17\",\"2021-03-18\",\"2021-03-19\",\"2021-03-20\",\"2021-03-21\",\"2021-03-22\",\"2021-03-23\",\"2021-03-24\",\"2021-03-25\",\"2021-03-26\",\"2021-03-27\",\"2021-03-28\",\"2021-03-29\",\"2021-03-30\",\"2021-03-31\",\"2021-04-01\",\"2021-04-02\",\"2021-04-03\",\"2021-04-04\",\"2021-04-05\",\"2021-04-06\",\"2021-04-07\",\"2021-04-08\",\"2021-04-09\",\"2021-04-10\",\"2021-04-11\",\"2021-04-12\",\"2021-04-13\",\"2021-04-14\",\"2021-04-15\",\"2021-04-16\",\"2021-04-17\",\"2021-04-18\",\"2021-04-19\",\"2021-04-20\",\"2021-04-21\",\"2021-04-22\",\"2021-04-23\",\"2021-04-24\",\"2021-04-25\",\"2021-04-26\",\"2021-04-27\",\"2021-04-28\",\"2021-04-29\",\"2021-04-30\",\"2021-05-01\",\"2021-05-02\",\"2021-05-03\",\"2021-05-04\",\"2021-05-05\",\"2021-05-06\",\"2021-05-07\",\"2021-05-08\",\"2021-05-09\",\"2021-05-10\",\"2021-05-11\",\"2021-05-12\",\"2021-05-13\",\"2021-05-14\",\"2021-05-15\",\"2021-05-16\",\"2021-05-17\",\"2021-05-18\",\"2021-05-19\",\"2021-05-20\",\"2021-05-21\",\"2021-05-22\",\"2021-05-23\",\"2021-05-24\",\"2021-05-25\",\"2021-05-26\",\"2021-05-27\",\"2021-05-28\",\"2021-05-29\",\"2021-05-30\",\"2021-05-31\",\"2021-06-01\",\"2021-06-02\",\"2021-06-03\",\"2021-06-04\",\"2021-06-05\",\"2021-06-06\",\"2021-06-07\",\"2021-06-08\",\"2021-06-09\",\"2021-06-10\",\"2021-06-11\",\"2021-06-12\",\"2021-06-13\",\"2021-06-14\",\"2021-06-15\",\"2021-06-16\",\"2021-06-17\",\"2021-06-18\",\"2021-06-19\",\"2021-06-20\",\"2021-06-21\",\"2021-06-22\",\"2021-06-23\",\"2021-06-24\",\"2021-06-25\",\"2021-06-26\",\"2021-06-27\",\"2021-06-28\",\"2021-06-29\",\"2021-06-30\",\"2021-07-01\",\"2021-07-02\",\"2021-07-03\",\"2021-07-04\",\"2021-07-05\",\"2021-07-06\",\"2021-07-07\",\"2021-07-08\",\"2021-07-09\",\"2021-07-10\",\"2021-07-11\",\"2021-07-12\",\"2021-07-13\",\"2021-07-14\",\"2021-07-15\",\"2021-07-16\",\"2021-07-17\",\"2021-07-18\",\"2021-07-19\",\"2021-07-20\",\"2021-07-21\",\"2021-07-22\",\"2021-07-23\",\"2021-07-24\",\"2021-07-25\",\"2021-07-26\",\"2021-07-27\",\"2021-07-28\",\"2021-07-29\",\"2021-07-30\",\"2021-07-31\",\"2021-08-01\",\"2021-08-02\",\"2021-08-03\",\"2021-08-04\",\"2021-08-05\",\"2021-08-06\",\"2021-08-07\",\"2021-08-08\",\"2021-08-09\",\"2021-08-10\",\"2021-08-11\",\"2021-08-12\",\"2021-08-13\",\"2021-08-14\",\"2021-08-15\",\"2021-08-16\",\"2021-08-17\",\"2021-08-18\",\"2021-08-19\",\"2021-08-20\",\"2021-08-21\",\"2021-08-22\",\"2021-08-23\",\"2021-08-24\",\"2021-08-25\",\"2021-08-26\",\"2021-08-27\",\"2021-08-28\",\"2021-08-29\",\"2021-08-30\",\"2021-08-31\",\"2021-09-01\",\"2021-09-02\",\"2021-09-03\",\"2021-09-04\",\"2021-09-05\",\"2021-09-06\",\"2021-09-07\",\"2021-09-08\",\"2021-09-09\",\"2021-09-10\",\"2021-09-11\",\"2021-09-12\",\"2021-09-13\",\"2021-09-14\",\"2021-09-15\",\"2021-09-16\",\"2021-09-17\",\"2021-09-18\",\"2021-09-19\",\"2021-09-20\",\"2021-09-21\",\"2021-09-22\",\"2021-09-23\",\"2021-09-24\",\"2021-09-25\",\"2021-09-26\",\"2021-09-27\",\"2021-09-28\",\"2021-09-29\",\"2021-09-30\",\"2021-10-01\",\"2021-10-02\",\"2021-10-03\",\"2021-10-04\",\"2021-10-05\",\"2021-10-06\",\"2021-10-07\",\"2021-10-08\",\"2021-10-09\",\"2021-10-10\",\"2021-10-11\",\"2021-10-12\",\"2021-10-13\",\"2021-10-14\",\"2021-10-15\",\"2021-10-16\",\"2021-10-17\",\"2021-10-18\",\"2021-10-19\",\"2021-10-20\",\"2021-10-21\",\"2021-10-22\",\"2021-10-23\",\"2021-10-24\",\"2021-10-25\",\"2021-10-26\",\"2021-10-27\",\"2021-10-28\",\"2021-10-29\",\"2021-10-30\",\"2021-10-31\",\"2021-11-01\",\"2021-11-02\",\"2021-11-03\",\"2021-11-04\",\"2021-11-05\",\"2021-11-06\",\"2021-11-07\",\"2021-11-08\",\"2021-11-09\",\"2021-11-10\",\"2021-11-11\",\"2021-11-12\",\"2021-11-13\",\"2021-11-14\",\"2021-11-15\",\"2021-11-16\",\"2021-11-17\",\"2021-11-18\",\"2021-11-19\",\"2021-11-20\",\"2021-11-21\",\"2021-11-22\",\"2021-11-23\",\"2021-11-24\",\"2021-11-25\",\"2021-11-26\",\"2021-11-27\",\"2021-11-28\",\"2021-11-29\",\"2021-11-30\",\"2021-12-01\",\"2021-12-02\",\"2021-12-03\",\"2021-12-04\",\"2021-12-05\",\"2021-12-06\",\"2021-12-07\",\"2021-12-08\",\"2021-12-09\",\"2021-12-10\",\"2021-12-11\",\"2021-12-12\",\"2021-12-13\",\"2021-12-14\",\"2021-12-15\",\"2021-12-16\",\"2021-12-17\",\"2021-12-18\",\"2021-12-19\",\"2021-12-20\",\"2021-12-21\",\"2021-12-22\",\"2021-12-23\",\"2021-12-24\",\"2021-12-25\",\"2021-12-26\",\"2021-12-27\",\"2021-12-28\",\"2021-12-29\",\"2021-12-30\",\"2021-12-31\",\"2022-01-01\",\"2022-01-02\",\"2022-01-03\",\"2022-01-04\",\"2022-01-05\",\"2022-01-06\",\"2022-01-07\",\"2022-01-08\",\"2022-01-09\",\"2022-01-10\",\"2022-01-11\",\"2022-01-12\",\"2022-01-13\",\"2022-01-14\",\"2022-01-15\",\"2022-01-16\",\"2022-01-17\",\"2022-01-18\",\"2022-01-19\",\"2022-01-20\",\"2022-01-21\",\"2022-01-22\",\"2022-01-23\",\"2022-01-24\",\"2022-01-25\",\"2022-01-26\",\"2022-01-27\",\"2022-01-28\",\"2022-01-29\",\"2022-01-30\",\"2022-01-31\",\"2022-02-01\",\"2022-02-02\",\"2022-02-03\",\"2022-02-04\",\"2022-02-05\",\"2022-02-06\",\"2022-02-07\",\"2022-02-08\",\"2022-02-09\",\"2022-02-10\",\"2022-02-11\",\"2022-02-12\",\"2022-02-13\",\"2022-02-14\",\"2022-02-15\",\"2022-02-16\",\"2022-02-17\",\"2022-02-18\",\"2022-02-19\",\"2022-02-20\",\"2022-02-21\",\"2022-02-22\",\"2022-02-23\",\"2022-02-24\",\"2022-02-25\",\"2022-02-26\",\"2022-02-27\",\"2022-02-28\",\"2022-03-01\",\"2022-03-02\",\"2022-03-03\",\"2022-03-04\",\"2022-03-05\",\"2022-03-06\",\"2022-03-07\",\"2022-03-08\",\"2022-03-09\",\"2022-03-10\",\"2022-03-11\",\"2022-03-12\",\"2022-03-13\",\"2022-03-14\",\"2022-03-15\",\"2022-03-16\",\"2022-03-17\",\"2022-03-18\",\"2022-03-19\",\"2022-03-20\",\"2022-03-21\",\"2022-03-22\",\"2022-03-23\",\"2022-03-24\",\"2022-03-25\",\"2022-03-26\",\"2022-03-27\",\"2022-03-28\",\"2022-03-29\",\"2022-03-30\",\"2022-03-31\",\"2022-04-01\",\"2022-04-02\",\"2022-04-03\",\"2022-04-04\",\"2022-04-05\",\"2022-04-06\",\"2022-04-07\",\"2022-04-08\",\"2022-04-09\",\"2022-04-10\",\"2022-04-11\",\"2022-04-12\",\"2022-04-13\",\"2022-04-14\",\"2022-04-15\",\"2022-04-16\",\"2022-04-17\",\"2022-04-18\",\"2022-04-19\",\"2022-04-20\",\"2022-04-21\",\"2022-04-22\",\"2022-04-23\",\"2022-04-24\",\"2022-04-25\",\"2022-04-26\",\"2022-04-27\",\"2022-04-28\",\"2022-04-29\",\"2022-04-30\",\"2022-05-01\",\"2022-05-02\",\"2022-05-03\",\"2022-05-04\",\"2022-05-05\",\"2022-05-06\",\"2022-05-07\",\"2022-05-08\",\"2022-05-09\",\"2022-05-10\",\"2022-05-11\",\"2022-05-12\",\"2022-05-13\",\"2022-05-14\",\"2022-05-15\",\"2022-05-16\",\"2022-05-17\",\"2022-05-18\",\"2022-05-19\",\"2022-05-20\",\"2022-05-21\",\"2022-05-22\",\"2022-05-23\",\"2022-05-24\",\"2022-05-25\",\"2022-05-26\",\"2022-05-27\",\"2022-05-28\",\"2022-05-29\",\"2022-05-30\",\"2022-05-31\",\"2022-06-01\",\"2022-06-02\",\"2022-06-03\",\"2022-06-04\",\"2022-06-05\",\"2022-06-06\",\"2022-06-07\",\"2022-06-08\",\"2022-06-09\",\"2022-06-10\",\"2022-06-11\",\"2022-06-12\",\"2022-06-13\",\"2022-06-14\",\"2022-06-15\",\"2022-06-16\",\"2022-06-17\",\"2022-06-18\",\"2022-06-19\",\"2022-06-20\",\"2022-06-21\",\"2022-06-22\",\"2022-06-23\",\"2022-06-24\",\"2022-06-25\",\"2022-06-26\",\"2022-06-27\",\"2022-06-28\",\"2022-06-29\",\"2022-06-30\",\"2022-07-01\",\"2022-07-02\",\"2022-07-03\",\"2022-07-04\",\"2022-07-05\",\"2022-07-06\",\"2022-07-07\",\"2022-07-08\",\"2022-07-09\",\"2022-07-10\",\"2022-07-11\",\"2022-07-12\",\"2022-07-13\",\"2022-07-14\",\"2022-07-15\",\"2022-07-16\",\"2022-07-17\",\"2022-07-18\",\"2022-07-19\",\"2022-07-20\",\"2022-07-21\",\"2022-07-22\",\"2022-07-23\",\"2022-07-24\",\"2022-07-25\",\"2022-07-26\",\"2022-07-27\",\"2022-07-28\",\"2022-07-29\",\"2022-07-30\",\"2022-07-31\",\"2022-08-01\",\"2022-08-02\",\"2022-08-03\",\"2022-08-04\",\"2022-08-05\",\"2022-08-06\",\"2022-08-07\",\"2022-08-08\",\"2022-08-09\",\"2022-08-10\",\"2022-08-11\",\"2022-08-12\",\"2022-08-13\",\"2022-08-14\",\"2022-08-15\",\"2022-08-16\",\"2022-08-17\",\"2022-08-18\",\"2022-08-19\",\"2022-08-20\",\"2022-08-21\",\"2022-08-22\",\"2022-08-23\",\"2022-08-24\",\"2022-08-25\",\"2022-08-26\",\"2022-08-27\",\"2022-08-28\",\"2022-08-29\",\"2022-08-30\",\"2022-08-31\",\"2022-09-01\",\"2022-09-02\",\"2022-09-03\",\"2022-09-04\",\"2022-09-05\",\"2022-09-06\",\"2022-09-07\",\"2022-09-08\",\"2022-09-09\",\"2022-09-10\",\"2022-09-11\",\"2022-09-12\",\"2022-09-13\",\"2022-09-14\",\"2022-09-15\",\"2022-09-16\",\"2022-09-17\",\"2022-09-18\",\"2022-09-19\",\"2022-09-20\",\"2022-09-21\",\"2022-09-22\",\"2022-09-23\",\"2022-09-24\",\"2022-09-25\",\"2022-09-26\",\"2022-09-27\",\"2022-09-28\",\"2022-09-29\",\"2022-09-30\",\"2022-10-01\",\"2022-10-02\",\"2022-10-03\",\"2022-10-04\",\"2022-10-05\",\"2022-10-06\",\"2022-10-07\",\"2022-10-08\",\"2022-10-09\",\"2022-10-10\",\"2022-10-11\",\"2022-10-12\",\"2022-10-13\",\"2022-10-14\",\"2022-10-15\",\"2022-10-16\",\"2022-10-17\",\"2022-10-18\",\"2022-10-19\",\"2022-10-20\",\"2022-10-21\",\"2022-10-22\",\"2022-10-23\",\"2022-10-24\",\"2022-10-25\",\"2022-10-26\",\"2022-10-27\",\"2022-10-28\",\"2022-10-29\",\"2022-10-30\",\"2022-10-31\",\"2022-11-01\",\"2022-11-02\",\"2022-11-03\",\"2022-11-04\",\"2022-11-05\",\"2022-11-06\",\"2022-11-07\",\"2022-11-08\",\"2022-11-09\",\"2022-11-10\",\"2022-11-11\",\"2022-11-12\",\"2022-11-13\",\"2022-11-14\",\"2022-11-15\",\"2022-11-16\",\"2022-11-17\",\"2022-11-18\",\"2022-11-19\",\"2022-11-20\",\"2022-11-21\",\"2022-11-22\",\"2022-11-23\",\"2022-11-24\",\"2022-11-25\",\"2022-11-26\",\"2022-11-27\",\"2022-11-28\",\"2022-11-29\",\"2022-11-30\",\"2022-12-01\",\"2022-12-02\",\"2022-12-03\",\"2022-12-04\",\"2022-12-05\",\"2022-12-06\",\"2022-12-07\",\"2022-12-08\",\"2022-12-09\",\"2022-12-10\",\"2022-12-11\",\"2022-12-12\",\"2022-12-13\",\"2022-12-14\",\"2022-12-15\",\"2022-12-16\",\"2022-12-17\",\"2022-12-18\",\"2022-12-19\",\"2022-12-20\",\"2022-12-21\",\"2022-12-22\",\"2022-12-23\",\"2022-12-24\",\"2022-12-25\",\"2022-12-26\",\"2022-12-27\",\"2022-12-28\",\"2022-12-29\",\"2022-12-30\",\"2022-12-31\",\"2023-01-01\",\"2023-01-02\",\"2023-01-03\",\"2023-01-04\",\"2023-01-05\",\"2023-01-06\",\"2023-01-07\",\"2023-01-08\",\"2023-01-09\",\"2023-01-10\",\"2023-01-11\",\"2023-01-12\",\"2023-01-13\",\"2023-01-14\",\"2023-01-15\",\"2023-01-16\",\"2023-01-17\",\"2023-01-18\",\"2023-01-19\",\"2023-01-20\",\"2023-01-21\",\"2023-01-22\",\"2023-01-23\",\"2023-01-24\",\"2023-01-25\",\"2023-01-26\",\"2023-01-27\",\"2023-01-28\",\"2023-01-29\",\"2023-01-30\",\"2023-01-31\",\"2023-02-01\",\"2023-02-02\",\"2023-02-03\",\"2023-02-04\",\"2023-02-05\",\"2023-02-06\",\"2023-02-07\",\"2023-02-08\",\"2023-02-09\",\"2023-02-10\",\"2023-02-11\",\"2023-02-12\",\"2023-02-13\",\"2023-02-14\",\"2023-02-15\",\"2023-02-16\",\"2023-02-17\",\"2023-02-18\",\"2023-02-19\",\"2023-02-20\",\"2023-02-21\",\"2023-02-22\",\"2023-02-23\",\"2023-02-24\",\"2023-02-25\",\"2023-02-26\",\"2023-02-27\",\"2023-02-28\",\"2023-03-01\",\"2023-03-02\",\"2023-03-03\",\"2023-03-04\",\"2023-03-05\",\"2023-03-06\",\"2023-03-07\",\"2023-03-08\",\"2023-03-09\",\"2023-03-10\",\"2023-03-11\",\"2023-03-12\",\"2023-03-13\",\"2023-03-14\",\"2023-03-15\",\"2023-03-16\",\"2023-03-17\",\"2023-03-18\",\"2023-03-19\",\"2023-03-20\",\"2023-03-21\",\"2023-03-22\",\"2023-03-23\",\"2023-03-24\",\"2023-03-25\",\"2023-03-26\",\"2023-03-27\",\"2023-03-28\",\"2023-03-29\",\"2023-03-30\",\"2023-03-31\",\"2023-04-01\",\"2023-04-02\",\"2023-04-03\",\"2023-04-04\",\"2023-04-05\",\"2023-04-06\",\"2023-04-07\",\"2023-04-08\",\"2023-04-09\",\"2023-04-10\",\"2023-04-11\",\"2023-04-12\",\"2023-04-13\",\"2023-04-14\",\"2023-04-15\",\"2023-04-16\",\"2023-04-17\",\"2023-04-18\",\"2023-04-19\",\"2023-04-20\",\"2023-04-21\",\"2023-04-22\",\"2023-04-23\",\"2023-04-24\",\"2023-04-25\",\"2023-04-26\",\"2023-04-27\",\"2023-04-28\",\"2023-04-29\",\"2023-04-30\",\"2023-05-01\",\"2023-05-02\",\"2023-05-03\",\"2023-05-04\",\"2023-05-05\",\"2023-05-06\",\"2023-05-07\",\"2023-05-08\",\"2023-05-09\",\"2023-05-10\",\"2023-05-11\",\"2023-05-12\",\"2023-05-13\",\"2023-05-14\",\"2023-05-15\",\"2023-05-16\",\"2023-05-17\",\"2023-05-18\",\"2023-05-19\",\"2023-05-20\",\"2023-05-21\",\"2023-05-22\",\"2023-05-23\",\"2023-05-24\",\"2023-05-25\",\"2023-05-26\",\"2023-05-27\",\"2023-05-28\",\"2023-05-29\",\"2023-05-30\",\"2023-05-31\",\"2023-06-01\",\"2023-06-02\",\"2023-06-03\",\"2023-06-04\",\"2023-06-05\",\"2023-06-06\",\"2023-06-07\",\"2023-06-08\",\"2023-06-09\",\"2023-06-10\",\"2023-06-11\",\"2023-06-12\",\"2023-06-13\",\"2023-06-14\",\"2023-06-15\",\"2023-06-16\",\"2023-06-17\",\"2023-06-18\",\"2023-06-19\",\"2023-06-20\",\"2023-06-21\",\"2023-06-22\",\"2023-06-23\",\"2023-06-24\",\"2023-06-25\",\"2023-06-26\",\"2023-06-27\",\"2023-06-28\",\"2023-06-29\",\"2023-06-30\",\"2023-07-01\",\"2023-07-02\",\"2023-07-03\",\"2023-07-04\",\"2023-07-05\",\"2023-07-06\",\"2023-07-07\",\"2023-07-08\",\"2023-07-09\",\"2023-07-10\",\"2023-07-11\",\"2023-07-12\",\"2023-07-13\",\"2023-07-14\",\"2023-07-15\",\"2023-07-16\",\"2023-07-17\",\"2023-07-18\",\"2023-07-19\",\"2023-07-20\",\"2023-07-21\",\"2023-07-22\",\"2023-07-23\",\"2023-07-24\",\"2023-07-25\",\"2023-07-26\",\"2023-07-27\",\"2023-07-28\",\"2023-07-29\",\"2023-07-30\",\"2023-07-31\",\"2023-08-01\",\"2023-08-02\",\"2023-08-03\",\"2023-08-04\",\"2023-08-05\",\"2023-08-06\",\"2023-08-07\",\"2023-08-08\",\"2023-08-09\",\"2023-08-10\",\"2023-08-11\",\"2023-08-12\",\"2023-08-13\",\"2023-08-14\",\"2023-08-15\",\"2023-08-16\",\"2023-08-17\",\"2023-08-18\",\"2023-08-19\",\"2023-08-20\",\"2023-08-21\",\"2023-08-22\",\"2023-08-23\",\"2023-08-24\",\"2023-08-25\",\"2023-08-26\",\"2023-08-27\",\"2023-08-28\",\"2023-08-29\",\"2023-08-30\",\"2023-08-31\",\"2023-09-01\",\"2023-09-02\",\"2023-09-03\",\"2023-09-04\",\"2023-09-05\",\"2023-09-06\",\"2023-09-07\",\"2023-09-08\",\"2023-09-09\",\"2023-09-10\",\"2023-09-11\",\"2023-09-12\",\"2023-09-13\",\"2023-09-14\",\"2023-09-15\",\"2023-09-16\",\"2023-09-17\",\"2023-09-18\",\"2023-09-19\",\"2023-09-20\",\"2023-09-21\",\"2023-09-22\",\"2023-09-23\",\"2023-09-24\",\"2023-09-25\",\"2023-09-26\",\"2023-09-27\",\"2023-09-28\",\"2023-09-29\",\"2023-09-30\",\"2023-10-01\",\"2023-10-02\",\"2023-10-03\",\"2023-10-04\",\"2023-10-05\",\"2023-10-06\",\"2023-10-07\",\"2023-10-08\",\"2023-10-09\",\"2023-10-10\",\"2023-10-11\",\"2023-10-12\",\"2023-10-13\",\"2023-10-14\",\"2023-10-15\",\"2023-10-16\",\"2023-10-17\",\"2023-10-18\",\"2023-10-19\",\"2023-10-20\",\"2023-10-21\",\"2023-10-22\",\"2023-10-23\",\"2023-10-24\",\"2023-10-25\",\"2023-10-26\",\"2023-10-27\",\"2023-10-28\",\"2023-10-29\",\"2023-10-30\",\"2023-10-31\",\"2023-11-01\",\"2023-11-02\",\"2023-11-03\",\"2023-11-04\",\"2023-11-05\",\"2023-11-06\",\"2023-11-07\",\"2023-11-08\",\"2023-11-09\",\"2023-11-10\",\"2023-11-11\",\"2023-11-12\",\"2023-11-13\",\"2023-11-14\",\"2023-11-15\",\"2023-11-16\",\"2023-11-17\",\"2023-11-18\",\"2023-11-19\",\"2023-11-20\",\"2023-11-21\",\"2023-11-22\",\"2023-11-23\",\"2023-11-24\",\"2023-11-25\",\"2023-11-26\",\"2023-11-27\",\"2023-11-28\",\"2023-11-29\",\"2023-11-30\",\"2023-12-01\",\"2023-12-02\",\"2023-12-03\",\"2023-12-04\",\"2023-12-05\",\"2023-12-06\",\"2023-12-07\",\"2023-12-08\",\"2023-12-09\",\"2023-12-10\",\"2023-12-11\",\"2023-12-12\",\"2023-12-13\",\"2023-12-14\",\"2023-12-15\",\"2023-12-16\",\"2023-12-17\",\"2023-12-18\",\"2023-12-19\",\"2023-12-20\",\"2023-12-21\",\"2023-12-22\",\"2023-12-23\",\"2023-12-24\",\"2023-12-25\",\"2023-12-26\",\"2023-12-27\",\"2023-12-28\",\"2023-12-29\",\"2023-12-30\",\"2023-12-31\",\"2024-01-01\",\"2024-01-02\",\"2024-01-03\",\"2024-01-04\",\"2024-01-05\",\"2024-01-06\",\"2024-01-07\",\"2024-01-08\",\"2024-01-09\",\"2024-01-10\",\"2024-01-11\",\"2024-01-12\",\"2024-01-13\",\"2024-01-14\",\"2024-01-15\",\"2024-01-16\",\"2024-01-17\",\"2024-01-18\",\"2024-01-19\",\"2024-01-20\",\"2024-01-21\",\"2024-01-22\",\"2024-01-23\",\"2024-01-24\",\"2024-01-25\",\"2024-01-26\",\"2024-01-27\",\"2024-01-28\",\"2024-01-29\",\"2024-01-30\",\"2024-01-31\",\"2024-02-01\",\"2024-02-02\",\"2024-02-03\",\"2024-02-04\",\"2024-02-05\",\"2024-02-06\",\"2024-02-07\",\"2024-02-08\",\"2024-02-09\",\"2024-02-10\",\"2024-02-11\",\"2024-02-12\",\"2024-02-13\",\"2024-02-14\",\"2024-02-15\",\"2024-02-16\",\"2024-02-17\",\"2024-02-18\",\"2024-02-19\",\"2024-02-20\",\"2024-02-21\",\"2024-02-22\",\"2024-02-23\",\"2024-02-24\",\"2024-02-25\",\"2024-02-26\",\"2024-02-27\",\"2024-02-28\",\"2024-02-29\",\"2024-03-01\",\"2024-03-02\",\"2024-03-03\",\"2024-03-04\",\"2024-03-05\",\"2024-03-06\",\"2024-03-07\",\"2024-03-08\",\"2024-03-09\",\"2024-03-10\",\"2024-03-11\",\"2024-03-12\",\"2024-03-13\",\"2024-03-14\",\"2024-03-15\",\"2024-03-16\",\"2024-03-17\",\"2024-03-18\",\"2024-03-19\",\"2024-03-20\",\"2024-03-21\",\"2024-03-22\",\"2024-03-23\",\"2024-03-24\",\"2024-03-25\",\"2024-03-26\",\"2024-03-27\",\"2024-03-28\",\"2024-03-29\",\"2024-03-30\",\"2024-03-31\",\"2024-04-01\",\"2024-04-02\",\"2024-04-03\",\"2024-04-04\",\"2024-04-05\",\"2024-04-06\",\"2024-04-07\",\"2024-04-08\",\"2024-04-09\",\"2024-04-10\",\"2024-04-11\",\"2024-04-12\",\"2024-04-13\",\"2024-04-14\",\"2024-04-15\",\"2024-04-16\",\"2024-04-17\",\"2024-04-18\",\"2024-04-19\",\"2024-04-20\",\"2024-04-21\",\"2024-04-22\",\"2024-04-23\",\"2024-04-24\",\"2024-04-25\",\"2024-04-26\",\"2024-04-27\",\"2024-04-28\",\"2024-04-29\",\"2024-04-30\",\"2024-05-01\",\"2024-05-02\",\"2024-05-03\",\"2024-05-04\",\"2024-05-05\",\"2024-05-06\",\"2024-05-07\",\"2024-05-08\",\"2024-05-09\",\"2024-05-10\",\"2024-05-11\",\"2024-05-12\",\"2024-05-13\",\"2024-05-14\",\"2024-05-15\",\"2024-05-16\",\"2024-05-17\",\"2024-05-18\",\"2024-05-19\",\"2024-05-20\",\"2024-05-21\",\"2024-05-22\",\"2024-05-23\",\"2024-05-24\",\"2024-05-25\",\"2024-05-26\",\"2024-05-27\",\"2024-05-28\",\"2024-05-29\",\"2024-05-30\",\"2024-05-31\",\"2024-06-01\",\"2024-06-02\",\"2024-06-03\",\"2024-06-04\",\"2024-06-05\",\"2024-06-06\",\"2024-06-07\",\"2024-06-08\",\"2024-06-09\",\"2024-06-10\",\"2024-06-11\",\"2024-06-12\",\"2024-06-13\",\"2024-06-14\",\"2024-06-15\",\"2024-06-16\",\"2024-06-17\",\"2024-06-18\",\"2024-06-19\",\"2024-06-20\",\"2024-06-21\",\"2024-06-22\",\"2024-06-23\",\"2024-06-24\",\"2024-06-25\",\"2024-06-26\",\"2024-06-27\",\"2024-06-28\",\"2024-06-29\",\"2024-06-30\",\"2024-07-01\",\"2024-07-02\",\"2024-07-03\",\"2024-07-04\",\"2024-07-05\",\"2024-07-06\",\"2024-07-07\",\"2024-07-08\",\"2024-07-09\",\"2024-07-10\",\"2024-07-11\",\"2024-07-12\",\"2024-07-13\",\"2024-07-14\",\"2024-07-15\",\"2024-07-16\",\"2024-07-17\",\"2024-07-18\",\"2024-07-19\",\"2024-07-20\",\"2024-07-21\",\"2024-07-22\",\"2024-07-23\",\"2024-07-24\",\"2024-07-25\",\"2024-07-26\",\"2024-07-27\",\"2024-07-28\",\"2024-07-29\",\"2024-07-30\",\"2024-07-31\",\"2024-08-01\",\"2024-08-02\",\"2024-08-03\",\"2024-08-04\",\"2024-08-05\",\"2024-08-06\",\"2024-08-07\",\"2024-08-08\",\"2024-08-09\",\"2024-08-10\",\"2024-08-11\",\"2024-08-12\",\"2024-08-13\",\"2024-08-14\",\"2024-08-15\",\"2024-08-16\",\"2024-08-17\",\"2024-08-18\",\"2024-08-19\",\"2024-08-20\",\"2024-08-21\",\"2024-08-22\",\"2024-08-23\",\"2024-08-24\",\"2024-08-25\",\"2024-08-26\",\"2024-08-27\",\"2024-08-28\",\"2024-08-29\",\"2024-08-30\",\"2024-08-31\",\"2024-09-01\",\"2024-09-02\",\"2024-09-03\",\"2024-09-04\",\"2024-09-05\",\"2024-09-06\",\"2024-09-07\",\"2024-09-08\",\"2024-09-09\",\"2024-09-10\",\"2024-09-11\",\"2024-09-12\",\"2024-09-13\",\"2024-09-14\",\"2024-09-15\",\"2024-09-16\",\"2024-09-17\",\"2024-09-18\",\"2024-09-19\",\"2024-09-20\",\"2024-09-21\",\"2024-09-22\",\"2024-09-23\",\"2024-09-24\",\"2024-09-25\",\"2024-09-26\",\"2024-09-27\",\"2024-09-28\",\"2024-09-29\",\"2024-09-30\",\"2024-10-01\",\"2024-10-02\",\"2024-10-03\",\"2024-10-04\",\"2024-10-05\",\"2024-10-06\",\"2024-10-07\",\"2024-10-08\",\"2024-10-09\",\"2024-10-10\",\"2024-10-11\",\"2024-10-12\",\"2024-10-13\",\"2024-10-14\",\"2024-10-15\",\"2024-10-16\",\"2024-10-17\",\"2024-10-18\",\"2024-10-19\",\"2024-10-20\",\"2024-10-21\",\"2024-10-22\",\"2024-10-23\",\"2024-10-24\",\"2024-10-25\",\"2024-10-27\",\"2024-10-28\",\"2024-10-29\",\"2024-10-30\",\"2024-10-31\",\"2024-11-01\",\"2024-11-02\",\"2024-11-03\",\"2024-11-04\",\"2024-11-05\",\"2024-11-06\",\"2024-11-07\",\"2024-11-08\",\"2024-11-09\",\"2024-11-10\",\"2024-11-11\",\"2024-11-12\",\"2024-11-13\",\"2024-11-14\",\"2024-11-15\",\"2024-11-16\",\"2024-11-17\",\"2024-11-18\",\"2024-11-19\",\"2024-11-20\",\"2024-11-21\",\"2024-11-22\",\"2024-11-23\",\"2024-11-24\",\"2024-11-25\",\"2024-11-26\",\"2024-11-27\",\"2024-11-28\",\"2024-11-29\",\"2024-11-30\",\"2024-12-01\",\"2024-12-02\",\"2024-12-03\",\"2024-12-04\",\"2024-12-05\",\"2024-12-06\",\"2024-12-07\",\"2024-12-08\",\"2024-12-09\",\"2024-12-10\",\"2024-12-11\",\"2024-12-12\",\"2024-12-13\",\"2024-12-14\",\"2024-12-15\",\"2024-12-16\",\"2024-12-17\",\"2024-12-18\",\"2024-12-19\",\"2024-12-20\",\"2024-12-21\",\"2024-12-22\",\"2024-12-23\",\"2024-12-24\",\"2024-12-25\",\"2024-12-26\",\"2024-12-27\",\"2024-12-28\",\"2024-12-29\",\"2024-12-30\",\"2024-12-31\",\"2025-01-01\",\"2025-01-02\",\"2025-01-03\",\"2025-01-04\",\"2025-01-05\",\"2025-01-06\",\"2025-01-07\",\"2025-01-08\",\"2025-01-09\",\"2025-01-10\",\"2025-01-11\",\"2025-01-12\",\"2025-01-13\",\"2025-01-14\",\"2025-01-15\",\"2025-01-16\",\"2025-01-17\",\"2025-01-18\",\"2025-01-19\",\"2025-01-20\",\"2025-01-21\",\"2025-01-22\",\"2025-01-23\",\"2025-01-24\",\"2025-01-25\",\"2025-01-26\",\"2025-01-27\",\"2025-01-28\",\"2025-01-29\",\"2025-01-30\",\"2025-01-31\",\"2025-02-01\",\"2025-02-02\",\"2025-02-03\",\"2025-02-04\",\"2025-02-05\",\"2025-02-06\",\"2025-02-07\",\"2025-02-08\",\"2025-02-09\",\"2025-02-10\",\"2025-02-11\",\"2025-02-12\",\"2025-02-13\",\"2025-02-14\",\"2025-02-15\",\"2025-02-16\",\"2025-02-17\",\"2025-02-18\",\"2025-02-19\",\"2025-02-20\",\"2025-02-21\",\"2025-02-22\",\"2025-02-23\",\"2025-02-24\",\"2025-02-25\",\"2025-02-26\",\"2025-02-27\",\"2025-02-28\",\"2025-03-01\",\"2025-03-02\",\"2025-03-03\",\"2025-03-04\",\"2025-03-05\",\"2025-03-06\",\"2025-03-07\",\"2025-03-08\",\"2025-03-09\",\"2025-03-10\",\"2025-03-11\",\"2025-03-12\",\"2025-03-13\",\"2025-03-14\",\"2025-03-15\",\"2025-03-16\",\"2025-03-17\",\"2025-03-18\",\"2025-03-19\",\"2025-03-20\",\"2025-03-21\",\"2025-03-22\",\"2025-03-23\",\"2025-03-24\",\"2025-03-25\",\"2025-03-26\",\"2025-03-27\",\"2025-03-28\",\"2025-03-29\",\"2025-03-30\",\"2025-03-31\",\"2025-04-01\",\"2025-04-02\",\"2025-04-03\",\"2025-04-04\",\"2025-04-05\",\"2025-04-06\",\"2025-04-07\",\"2025-04-08\",\"2025-04-09\",\"2025-04-10\",\"2025-04-11\",\"2025-04-12\",\"2025-04-13\",\"2025-04-14\",\"2025-04-15\",\"2025-04-16\",\"2025-04-17\",\"2025-04-18\",\"2025-04-19\",\"2025-04-20\",\"2025-04-21\",\"2025-04-22\",\"2025-04-23\",\"2025-04-24\",\"2025-04-25\",\"2025-04-26\",\"2025-04-27\",\"2025-04-28\",\"2025-04-29\",\"2025-04-30\",\"2025-05-01\",\"2025-05-02\"],\"y\":[30.0,15.0,40.0,24.0,11.0,8.0,36.0,30.0,44.0,54.0,31.0,42.0,35.0,55.0,71.0,67.0,74.0,63.0,67.0,74.0,54.0,44.0,39.0,31.0,33.0,37.0,44.0,41.0,38.0,47.0,56.0,44.0,55.0,59.0,37.0,39.0,37.0,39.0,40.0,41.0,41.0,40.0,32.0,33.0,31.0,29.0,29.0,37.0,36.0,36.0,28.0,32.0,30.0,31.0,24.0,24.0,18.0,12.0,16.0,16.0,11.0,22.0,22.0,17.0,19.0,20.0,17.0,21.0,18.0,20.0,18.0,23.0,26.0,24.0,25.0,26.0,32.0,31.0,28.0,29.0,64.0,47.0,55.0,54.0,61.0,59.0,56.0,52.0,55.0,56.0,63.0,67.0,56.0,62.0,53.0,63.0,41.0,44.0,40.0,40.0,40.0,32.0,31.0,37.0,31.0,32.0,41.0,30.0,26.0,27.0,25.0,23.0,19.0,22.0,16.0,38.0,25.0,24.0,27.0,40.0,41.0,26.0,42.0,38.0,40.0,39.0,24.0,15.0,19.0,19.0,17.0,26.0,22.0,23.0,27.0,32.0,34.0,37.0,28.0,17.0,15.0,16.0,21.0,18.0,20.0,16.0,22.0,27.0,27.0,31.0,33.0,37.0,34.0,34.0,38.0,39.0,37.0,29.0,33.0,29.0,29.0,32.0,36.0,39.0,42.0,44.0,47.0,43.0,46.0,44.0,49.0,54.0,53.0,47.0,54.0,54.0,53.0,48.0,39.0,39.0,36.0,31.0,23.0,25.0,25.0,23.0,19.0,21.0,18.0,18.0,21.0,16.0,18.0,21.0,19.0,24.0,27.0,26.0,19.0,21.0,18.0,19.0,22.0,19.0,18.0,19.0,19.0,22.0,17.0,21.0,18.0,19.0,26.0,17.0,14.0,17.0,18.0,13.0,15.0,18.0,14.0,20.0,23.0,24.0,28.0,25.0,21.0,24.0,24.0,31.0,35.0,38.0,43.0,37.0,37.0,42.0,42.0,37.0,34.0,35.0,33.0,36.0,29.0,37.0,34.0,29.0,26.0,31.0,28.0,19.0,13.0,15.0,18.0,20.0,24.0,23.0,26.0,24.0,21.0,21.0,27.0,24.0,23.0,25.0,29.0,33.0,35.0,34.0,31.0,32.0,29.0,36.0,36.0,41.0,42.0,42.0,48.0,51.0,47.0,52.0,54.0,52.0,56.0,49.0,28.0,23.0,24.0,26.0,28.0,21.0,15.0,14.0,12.0,15.0,9.0,17.0,11.0,14.0,18.0,19.0,13.0,15.0,17.0,12.0,19.0,13.0,11.0,11.0,14.0,19.0,15.0,14.0,14.0,10.0,11.0,13.0,17.0,23.0,21.0,27.0,35.0,28.0,31.0,25.0,33.0,26.0,29.0,21.0,24.0,23.0,26.0,24.0,30.0,33.0,48.0,36.0,31.0,39.0,39.0,42.0,37.0,19.0,22.0,21.0,16.0,27.0,24.0,28.0,29.0,31.0,35.0,30.0,27.0,33.0,37.0,35.0,41.0,39.0,35.0,21.0,22.0,17.0,23.0,22.0,19.0,27.0,21.0,14.0,18.0,37.0,42.0,40.0,46.0,38.0,48.0,48.0,43.0,43.0,38.0,63.0,65.0,59.0,59.0,61.0,63.0,69.0,47.0,40.0,39.0,39.0,42.0,41.0,44.0,36.0,35.0,42.0,56.0,54.0,55.0,55.0,56.0,56.0,54.0,55.0,55.0,54.0,58.0,56.0,56.0,55.0,62.0,56.0,50.0,44.0,46.0,43.0,44.0,49.0,50.0,57.0,56.0,62.0,60.0,71.0,61.0,59.0,65.0,69.0,65.0,64.0,62.0,65.0,42.0,62.0,51.0,60.0,50.0,61.0,64.0,61.0,62.0,62.0,61.0,68.0,65.0,58.0,41.0,42.0,40.0,42.0,42.0,51.0,50.0,63.0,66.0,67.0,57.0,69.0,63.0,69.0,71.0,76.0,75.0,78.0,78.0,77.0,75.0,65.0,67.0,70.0,73.0,68.0,69.0,65.0,64.0,69.0,67.0,70.0,71.0,71.0,73.0,61.0,62.0,63.0,66.0,42.0,27.0,34.0,27.0,62.0,62.0,46.0,61.0,60.0,63.0,67.0,75.0,80.0,84.0,83.0,82.0,81.0,84.0,83.0,84.0,80.0,87.0,95.0,92.0,62.0,74.0,78.0,65.0,63.0,79.0,76.0,67.0,72.0,67.0,74.0,84.0,83.0,62.0,33.0,65.0,61.0,16.0,34.0,19.0,40.0,42.0,34.0,42.0,42.0,40.0,20.0,42.0,24.0,47.0,16.0,19.0,22.0,31.0,57.0,61.0,61.0,62.0,64.0,66.0,45.0,61.0,60.0,59.0,45.0,48.0,45.0,11.0,13.0,31.0,20.0,14.0,30.0,39.0,11.0,5.0,33.0,39.0,33.0,41.0,30.0,32.0,20.0,24.0,20.0,24.0,28.0,41.0,43.0,41.0,43.0,39.0,43.0,41.0,41.0,38.0,39.0,38.0,39.0,38.0,38.0,41.0,38.0,31.0,41.0,37.0,37.0,41.0,39.0,15.0,12.0,24.0,32.0,33.0,27.0,38.0,39.0,37.0,30.0,31.0,32.0,27.0,39.0,37.0,41.0,39.0,38.0,38.0,37.0,39.0,40.0,40.0,40.0,41.0,37.0,37.0,39.0,33.0,20.0,24.0,53.0,50.0,52.0,54.0,53.0,50.0,49.0,51.0,56.0,49.0,54.0,53.0,54.0,42.0,38.0,39.0,40.0,39.0,38.0,41.0,38.0,41.0,38.0,38.0,32.0,32.0,30.0,20.0,23.0,21.0,17.0,21.0,20.0,32.0,31.0,38.0,25.0,28.0,28.0,24.0,21.0,29.0,32.0,28.0,32.0,26.0,20.0,23.0,22.0,27.0,21.0,24.0,23.0,15.0,21.0,23.0,23.0,20.0,33.0,25.0,22.0,39.0,38.0,37.0,37.0,40.0,38.0,37.0,39.0,38.0,38.0,39.0,41.0,40.0,51.0,44.0,41.0,50.0,45.0,49.0,56.0,54.0,55.0,54.0,51.0,53.0,48.0,49.0,52.0,49.0,40.0,41.0,42.0,50.0,54.0,57.0,57.0,55.0,57.0,57.0,59.0,56.0,53.0,61.0,56.0,56.0,56.0,57.0,52.0,61.0,65.0,63.0,64.0,59.0,49.0,53.0,50.0,44.0,44.0,43.0,46.0,46.0,44.0,41.0,39.0,40.0,38.0,39.0,38.0,38.0,40.0,41.0,39.0,38.0,33.0,17.0,16.0,17.0,14.0,10.0,8.0,12.0,9.0,8.0,11.0,12.0,9.0,9.0,11.0,10.0,12.0,13.0,14.0,12.0,8.0,12.0,10.0,12.0,12.0,14.0,14.0,12.0,12.0,12.0,20.0,21.0,22.0,15.0,15.0,10.0,11.0,15.0,18.0,13.0,15.0,18.0,16.0,15.0,17.0,19.0,19.0,20.0,24.0,21.0,28.0,26.0,26.0,44.0,40.0,40.0,45.0,44.0,40.0,42.0,49.0,55.0,56.0,48.0,40.0,39.0,41.0,40.0,44.0,41.0,40.0,50.0,50.0,52.0,49.0,42.0,40.0,43.0,41.0,39.0,39.0,41.0,48.0,48.0,51.0,50.0,56.0,48.0,54.0,53.0,54.0,54.0,53.0,52.0,54.0,52.0,38.0,38.0,40.0,37.0,39.0,38.0,40.0,39.0,38.0,37.0,38.0,41.0,50.0,43.0,40.0,43.0,40.0,41.0,44.0,42.0,42.0,41.0,40.0,38.0,40.0,43.0,44.0,44.0,41.0,44.0,41.0,43.0,43.0,44.0,43.0,41.0,44.0,41.0,44.0,44.0,50.0,55.0,53.0,55.0,55.0,58.0,76.0,71.0,76.0,75.0,75.0,80.0,75.0,72.0,75.0,79.0,77.0,77.0,79.0,78.0,84.0,75.0,75.0,78.0,79.0,82.0,83.0,82.0,80.0,75.0,81.0,78.0,76.0,78.0,75.0,76.0,75.0,74.0,79.0,75.0,75.0,75.0,83.0,79.0,40.0,41.0,41.0,41.0,41.0,38.0,38.0,41.0,41.0,38.0,39.0,47.0,43.0,48.0,49.0,48.0,52.0,48.0,39.0,43.0,39.0,46.0,45.0,47.0,43.0,45.0,49.0,45.0,41.0,40.0,42.0,42.0,47.0,43.0,46.0,48.0,53.0,55.0,52.0,56.0,53.0,56.0,52.0,56.0,55.0,55.0,56.0,61.0,73.0,74.0,73.0,76.0,75.0,61.0,70.0,67.0,74.0,73.0,72.0,71.0,71.0,74.0,72.0,90.0,88.0,82.0,90.0,90.0,86.0,87.0,89.0,90.0,86.0,90.0,86.0,91.0,94.0,86.0,91.0,94.0,90.0,88.0,94.0,93.0,86.0,87.0,89.0,88.0,95.0,92.0,92.0,92.0,93.0,95.0,94.0,95.0,86.0,94.0,89.0,90.0,91.0,95.0,91.0,92.0,92.0,95.0,93.0,92.0,92.0,88.0,93.0,86.0,94.0,93.0,91.0,92.0,91.0,91.0,95.0,94.0,94.0,93.0,94.0,93.0,95.0,91.0,93.0,93.0,94.0,90.0,84.0,78.0,83.0,88.0,84.0,79.0,79.0,80.0,78.0,75.0,40.0,74.0,70.0,74.0,71.0,78.0,55.0,77.0,76.0,78.0,77.0,76.0,78.0,80.0,81.0,84.0,86.0,83.0,95.0,92.0,93.0,92.0,92.0,95.0,93.0,95.0,95.0,91.0,93.0,91.0,91.0,94.0,94.0,76.0,79.0,55.0,56.0,55.0,38.0,78.0,78.0,84.0,77.0,77.0,76.0,81.0,81.0,68.0,73.0,70.0,74.0,78.0,76.0,71.0,71.0,72.0,71.0,75.0,73.0,70.0,66.0,65.0,60.0,54.0,65.0,74.0,72.0,72.0,76.0,74.0,74.0,73.0,74.0,71.0,75.0,72.0,73.0,70.0,70.0,76.0,74.0,74.0,75.0,79.0,78.0,76.0,79.0,74.0,73.0,73.0,65.0,55.0,37.0,31.0,27.0,50.0,59.0,52.0,51.0,68.0,66.0,61.0,68.0,48.0,65.0,64.0,67.0,73.0,72.0,61.0,68.0,31.0,26.0,27.0,20.0,27.0,21.0,23.0,11.0,19.0,12.0,14.0,10.0,22.0,22.0,27.0,21.0,18.0,10.0,18.0,20.0,23.0,24.0,27.0,24.0,17.0,15.0,13.0,14.0,21.0,21.0,28.0,23.0,28.0,38.0,33.0,26.0,25.0,23.0,21.0,23.0,10.0,14.0,22.0,27.0,20.0,22.0,25.0,25.0,28.0,28.0,21.0,24.0,27.0,29.0,20.0,28.0,20.0,20.0,20.0,20.0,25.0,20.0,21.0,20.0,22.0,15.0,19.0,24.0,19.0,10.0,21.0,23.0,22.0,27.0,26.0,32.0,50.0,50.0,53.0,60.0,60.0,48.0,48.0,42.0,50.0,52.0,69.0,74.0,65.0,71.0,70.0,70.0,70.0,76.0,71.0,72.0,72.0,73.0,70.0,70.0,78.0,76.0,79.0,79.0,73.0,75.0,71.0,78.0,72.0,73.0,73.0,71.0,74.0,74.0,72.0,73.0,79.0,79.0,47.0,45.0,46.0,31.0,32.0,44.0,30.0,49.0,53.0,48.0,50.0,53.0,50.0,27.0,21.0,27.0,33.0,28.0,27.0,26.0,25.0,24.0,20.0,27.0,54.0,49.0,54.0,59.0,68.0,76.0,74.0,72.0,71.0,71.0,78.0,70.0,70.0,71.0,78.0,79.0,78.0,75.0,82.0,84.0,75.0,74.0,73.0,72.0,76.0,73.0,66.0,70.0,73.0,74.0,74.0,73.0,76.0,73.0,73.0,71.0,73.0,75.0,84.0,75.0,77.0,74.0,72.0,74.0,72.0,71.0,52.0,54.0,34.0,43.0,49.0,50.0,33.0,42.0,32.0,47.0,21.0,27.0,33.0,40.0,34.0,32.0,31.0,25.0,18.0,16.0,25.0,28.0,29.0,24.0,16.0,27.0,28.0,21.0,28.0,29.0,23.0,24.0,29.0,25.0,27.0,45.0,34.0,41.0,39.0,37.0,40.0,41.0,27.0,22.0,28.0,21.0,29.0,29.0,23.0,24.0,15.0,18.0,10.0,23.0,23.0,21.0,22.0,21.0,21.0,23.0,21.0,22.0,24.0,24.0,24.0,19.0,13.0,11.0,13.0,12.0,23.0,20.0,24.0,24.0,29.0,20.0,26.0,28.0,20.0,20.0,33.0,37.0,45.0,48.0,54.0,50.0,50.0,44.0,44.0,46.0,46.0,51.0,52.0,30.0,25.0,27.0,25.0,20.0,25.0,23.0,27.0,26.0,26.0,20.0,51.0,52.0,39.0,33.0,22.0,22.0,23.0,21.0,22.0,28.0,22.0,22.0,21.0,23.0,21.0,24.0,27.0,25.0,28.0,31.0,30.0,26.0,31.0,40.0,47.0,51.0,49.0,60.0,56.0,55.0,52.0,50.0,52.0,48.0,52.0,53.0,48.0,34.0,37.0,30.0,34.0,32.0,20.0,25.0,28.0,22.0,28.0,28.0,24.0,27.0,27.0,27.0,26.0,24.0,24.0,23.0,27.0,21.0,24.0,23.0,20.0,22.0,28.0,27.0,21.0,27.0,22.0,23.0,18.0,11.0,10.0,12.0,12.0,10.0,9.0,10.0,14.0,8.0,12.0,13.0,13.0,13.0,14.0,10.0,12.0,11.0,12.0,12.0,13.0,14.0,10.0,16.0,17.0,13.0,10.0,14.0,10.0,13.0,15.0,17.0,11.0,13.0,12.0,14.0,11.0,8.0,7.0,7.0,9.0,6.0,6.0,9.0,9.0,11.0,11.0,11.0,14.0,14.0,12.0,10.0,13.0,11.0,11.0,14.0,11.0,14.0,19.0,18.0,18.0,20.0,24.0,24.0,22.0,16.0,15.0,18.0,15.0,21.0,24.0,20.0,30.0,31.0,34.0,33.0,31.0,30.0,30.0,26.0,28.0,32.0,39.0,42.0,39.0,33.0,31.0,34.0,30.0,31.0,31.0,30.0,30.0,42.0,31.0,41.0,42.0,46.0,47.0,45.0,44.0,41.0,30.0,33.0,29.0,27.0,29.0,28.0,25.0,25.0,27.0,28.0,28.0,24.0,27.0,23.0,20.0,25.0,21.0,20.0,23.0,22.0,24.0,20.0,22.0,28.0,26.0,25.0,34.0,27.0,28.0,20.0,22.0,27.0,21.0,23.0,23.0,22.0,20.0,24.0,24.0,21.0,20.0,20.0,22.0,21.0,20.0,24.0,24.0,20.0,25.0,26.0,23.0,24.0,22.0,22.0,24.0,20.0,20.0,24.0,24.0,24.0,20.0,22.0,23.0,23.0,23.0,20.0,23.0,22.0,20.0,33.0,32.0,30.0,34.0,34.0,31.0,30.0,30.0,30.0,30.0,38.0,40.0,33.0,31.0,29.0,22.0,25.0,21.0,22.0,24.0,22.0,23.0,20.0,23.0,23.0,24.0,21.0,22.0,22.0,20.0,20.0,22.0,26.0,28.0,26.0,29.0,27.0,27.0,27.0,26.0,26.0,25.0,29.0,25.0,26.0,27.0,26.0,27.0,27.0,30.0,31.0,29.0,28.0,26.0,29.0,29.0,26.0,28.0,27.0,29.0,29.0,28.0,27.0,28.0,28.0,28.0,25.0,26.0,27.0,26.0,29.0,29.0,26.0,25.0,25.0,25.0,26.0,26.0,30.0,31.0,46.0,52.0,45.0,51.0,52.0,45.0,51.0,53.0,53.0,50.0,52.0,51.0,54.0,55.0,52.0,55.0,61.0,51.0,56.0,60.0,60.0,58.0,58.0,56.0,54.0,58.0,55.0,48.0,49.0,50.0,48.0,50.0,53.0,62.0,61.0,60.0,60.0,58.0,60.0,59.0,56.0,53.0,52.0,51.0,50.0,53.0,50.0,51.0,50.0,50.0,47.0,48.0,49.0,50.0,44.0,34.0,33.0,33.0,49.0,56.0,50.0,52.0,51.0,64.0,63.0,66.0,68.0,62.0,57.0,61.0,64.0,64.0,64.0,59.0,57.0,60.0,63.0,61.0,63.0,63.0,62.0,62.0,63.0,64.0,61.0,61.0,62.0,68.0,65.0,61.0,68.0,68.0,68.0,69.0,58.0,63.0,52.0,50.0,53.0,56.0,53.0,53.0,56.0,59.0,64.0,64.0,60.0,63.0,55.0,64.0,64.0,61.0,60.0,64.0,60.0,51.0,52.0,52.0,49.0,48.0,48.0,50.0,54.0,50.0,51.0,48.0,48.0,52.0,49.0,50.0,50.0,51.0,49.0,48.0,50.0,52.0,51.0,51.0,52.0,50.0,53.0,52.0,53.0,44.0,53.0,50.0,50.0,49.0,47.0,47.0,45.0,46.0,41.0,47.0,47.0,49.0,47.0,49.0,59.0,65.0,65.0,62.0,64.0,55.0,59.0,62.0,54.0,56.0,59.0,63.0,62.0,64.0,61.0,56.0,55.0,58.0,55.0,56.0,57.0,64.0,57.0,60.0,56.0,57.0,54.0,56.0,50.0,56.0,50.0,52.0,54.0,55.0,50.0,51.0,51.0,52.0,52.0,52.0,50.0,53.0,53.0,52.0,54.0,50.0,49.0,49.0,54.0,50.0,53.0,51.0,54.0,54.0,50.0,53.0,52.0,50.0,37.0,39.0,37.0,38.0,37.0,37.0,41.0,39.0,38.0,38.0,39.0,39.0,49.0,52.0,40.0,39.0,40.0,40.0,40.0,42.0,41.0,46.0,41.0,40.0,40.0,30.0,41.0,45.0,45.0,43.0,46.0,46.0,46.0,47.0,47.0,43.0,47.0,44.0,47.0,46.0,44.0,46.0,48.0,47.0,48.0,50.0,50.0,49.0,48.0,50.0,49.0,50.0,50.0,50.0,47.0,45.0,44.0,47.0,45.0,47.0,52.0,50.0,52.0,53.0,63.0,53.0,53.0,66.0,72.0,71.0,70.0,65.0,72.0,68.0,66.0,66.0,72.0,65.0,68.0,70.0,74.0,68.0,66.0,69.0,70.0,70.0,73.0,72.0,69.0,60.0,70.0,63.0,69.0,66.0,69.0,71.0,62.0,66.0,66.0,73.0,73.0,66.0,68.0,72.0,74.0,71.0,74.0,73.0,74.0,75.0,72.0,72.0,72.0,73.0,74.0,74.0,67.0,65.0,72.0,70.0,67.0,73.0,65.0,73.0,74.0,70.0,74.0,70.0,71.0,73.0,71.0,73.0,73.0,65.0,68.0,67.0,65.0,71.0,70.0,68.0,72.0,70.0,71.0,71.0,76.0,73.0,76.0,71.0,64.0,60.0,52.0,64.0,60.0,63.0,51.0,52.0,56.0,55.0,50.0,48.0,52.0,49.0,55.0,54.0,55.0,61.0,60.0,63.0,63.0,60.0,60.0,60.0,64.0,62.0,66.0,72.0,74.0,71.0,70.0,79.0,74.0,72.0,72.0,76.0,72.0,75.0,72.0,78.0,74.0,76.0,72.0,74.0,72.0,79.0,82.0,80.0,80.0,80.0,83.0,82.0,90.0,75.0,82.0,81.0,84.0,79.0,82.0,81.0,81.0,88.0,83.0,81.0,79.0,77.0,79.0,74.0,78.0,75.0,73.0,74.0,75.0,81.0,83.0,80.0,79.0,75.0,75.0,79.0,79.0,71.0,70.0,79.0,75.0,78.0,76.0,80.0,78.0,76.0,79.0,72.0,72.0,74.0,65.0,67.0,57.0,66.0,66.0,72.0,73.0,71.0,72.0,72.0,70.0,67.0,65.0,67.0,67.0,54.0,43.0,48.0,67.0,69.0,71.0,68.0,64.0,55.0,66.0,53.0,56.0,57.0,66.0,64.0,70.0,74.0,73.0,72.0,70.0,76.0,76.0,76.0,74.0,76.0,75.0,74.0,72.0,72.0,73.0,73.0,72.0,73.0,73.0,73.0,75.0,78.0,77.0,72.0,75.0,72.0,74.0,72.0,70.0,74.0,74.0,71.0,71.0,74.0,64.0,60.0,63.0,53.0,55.0,51.0,30.0,46.0,40.0,47.0,30.0,47.0,53.0,51.0,50.0,44.0,29.0,26.0,29.0,28.0,27.0,28.0,29.0,25.0,25.0,33.0,52.0,65.0,69.0,61.0,60.0,74.0,74.0,70.0,71.0,69.0,68.0,68.0,72.0,71.0,74.0,67.0,61.0,52.0,57.0,37.0,34.0,26.0,17.0,29.0,20.0,48.0,40.0,39.0,25.0,31.0,30.0,29.0,27.0,25.0,31.0,28.0,30.0,26.0,39.0,34.0,56.0,54.0,55.0,48.0,30.0,29.0,34.0,29.0,26.0,26.0,26.0,27.0,29.0,22.0,23.0,29.0,26.0,33.0,37.0,31.0,32.0,50.0,51.0,39.0,33.0,45.0,49.0,54.0,54.0,52.0,50.0,54.0,59.0,50.0,61.0,64.0,63.0,61.0,50.0,42.0,37.0,41.0,49.0,50.0,50.0,49.0,49.0,39.0,32.0,49.0,50.0,48.0,65.0,73.0,71.0,73.0,72.0,73.0,72.0,70.0,71.0,69.0,72.0,74.0,72.0,72.0,77.0,77.0,75.0,72.0,74.0,70.0,70.0,70.0,77.0,75.0,75.0,78.0,76.0,80.0,84.0,88.0,80.0,86.0,90.0,83.0,90.0,83.0,82.0,94.0,93.0,80.0,82.0,79.0,75.0,77.0,78.0,84.0,81.0,80.0,76.0,78.0,84.0,72.0,75.0,79.0,78.0,78.0,74.0,83.0,76.0,83.0,80.0,83.0,87.0,81.0,75.0,74.0,73.0,73.0,70.0,73.0,73.0,79.0,74.0,72.0,73.0,65.0,64.0,66.0,70.0,74.0,73.0,72.0,76.0,78.0,70.0,69.0,50.0,69.0,62.0,61.0,63.0,70.0,75.0,75.0,77.0,77.0,76.0,76.0,84.0,75.0,75.0,75.0,73.0,71.0,72.0,72.0,70.0,76.0,68.0,60.0,44.0,72.0,54.0,49.0,44.0,44.0,46.0,43.0,47.0,46.0,50.0,48.0,50.0,54.0,51.0,47.0,44.0,49.0,55.0,49.0,50.0,49.0,25.0,21.0,10.0,16.0,20.0,26.0,33.0,15.0,20.0,25.0,34.0,28.0,27.0,20.0,24.0,34.0,45.0,27.0,46.0,30.0,32.0,34.0,32.0,49.0,31.0,32.0,30.0,45.0,46.0,47.0,40.0,44.0,26.0,32.0,34.0,34.0,44.0,25.0,28.0,30.0,34.0,23.0,24.0,18.0,39.0,25.0,43.0,45.0,31.0,38.0,29.0,30.0,33.0,32.0,37.0,39.0,47.0,72.0,63.0,60.0,65.0,61.0,54.0,60.0,56.0,53.0,67.0],\"type\":\"scatter\"},{\"mode\":\"lines\",\"name\":\"Aggregated PnL\",\"x\":[\"2024-01-19\",\"2024-01-22\",\"2024-01-26\",\"2024-01-29\",\"2024-02-14\",\"2024-02-15\",\"2024-02-16\",\"2024-02-17\",\"2024-02-18\",\"2024-02-19\",\"2024-02-20\",\"2024-02-21\",\"2024-02-22\",\"2024-02-23\",\"2024-02-25\",\"2024-02-26\",\"2024-02-27\",\"2024-02-28\",\"2024-02-29\",\"2024-03-01\",\"2024-03-02\",\"2024-03-03\",\"2024-03-04\",\"2024-03-05\",\"2024-03-06\",\"2024-03-08\",\"2024-03-09\",\"2024-03-10\",\"2024-03-11\",\"2024-03-12\",\"2024-03-13\",\"2024-03-14\",\"2024-03-15\",\"2024-03-16\",\"2024-03-17\",\"2024-03-18\",\"2024-03-19\",\"2024-03-20\",\"2024-03-21\",\"2024-03-24\",\"2024-03-25\",\"2024-03-26\",\"2024-03-27\",\"2024-03-28\",\"2024-03-29\",\"2024-03-30\",\"2024-03-31\",\"2024-04-01\",\"2024-04-02\",\"2024-04-03\",\"2024-04-04\",\"2024-04-05\",\"2024-04-06\",\"2024-04-07\",\"2024-04-08\",\"2024-04-09\",\"2024-04-10\",\"2024-04-11\",\"2024-04-12\",\"2024-04-13\",\"2024-04-14\",\"2024-04-15\",\"2024-04-16\",\"2024-04-17\",\"2024-04-19\",\"2024-04-20\",\"2024-04-22\",\"2024-04-23\",\"2024-04-24\",\"2024-04-25\",\"2024-04-27\",\"2024-04-28\",\"2024-04-29\",\"2024-04-30\",\"2024-05-01\",\"2024-05-03\",\"2024-05-04\",\"2024-05-05\",\"2024-05-06\",\"2024-05-07\",\"2024-05-08\",\"2024-05-09\",\"2024-05-10\",\"2024-05-11\",\"2024-05-12\",\"2024-05-13\",\"2024-05-14\",\"2024-05-15\",\"2024-05-16\",\"2024-05-18\",\"2024-05-19\",\"2024-05-20\",\"2024-05-21\",\"2024-05-22\",\"2024-05-23\",\"2024-06-07\",\"2024-06-08\",\"2024-06-09\",\"2024-06-10\",\"2024-06-11\",\"2024-06-13\",\"2024-06-14\",\"2024-06-15\",\"2024-06-17\",\"2024-06-18\",\"2024-06-19\",\"2024-06-20\",\"2024-06-21\",\"2024-06-22\",\"2024-06-24\",\"2024-06-26\",\"2024-06-27\",\"2024-06-29\",\"2024-06-30\",\"2024-07-01\",\"2024-07-03\",\"2024-07-04\",\"2024-07-05\",\"2024-07-10\",\"2024-07-11\",\"2024-07-12\",\"2024-07-13\",\"2024-07-14\",\"2024-07-15\",\"2024-07-16\",\"2024-07-17\",\"2024-07-18\",\"2024-07-19\",\"2024-07-20\",\"2024-07-21\",\"2024-07-22\",\"2024-07-23\",\"2024-07-24\",\"2024-07-25\",\"2024-07-26\",\"2024-07-27\",\"2024-07-28\",\"2024-07-30\",\"2024-07-31\",\"2024-08-01\",\"2024-08-02\",\"2024-08-03\",\"2024-08-04\",\"2024-08-05\",\"2024-08-09\",\"2024-08-10\",\"2024-08-11\",\"2024-08-12\",\"2024-08-13\",\"2024-08-14\",\"2024-08-16\",\"2024-08-18\",\"2024-08-20\",\"2024-08-23\",\"2024-08-24\",\"2024-08-25\",\"2024-08-26\",\"2024-08-27\",\"2024-08-28\",\"2024-08-30\",\"2024-08-31\",\"2024-09-02\",\"2024-09-04\",\"2024-09-06\",\"2024-09-11\",\"2024-09-14\",\"2024-09-20\",\"2024-09-21\",\"2024-09-22\",\"2024-09-23\",\"2024-09-24\",\"2024-09-25\",\"2024-09-26\",\"2024-09-27\",\"2024-09-28\",\"2024-09-30\",\"2024-10-01\",\"2024-10-02\",\"2024-10-03\",\"2024-10-05\",\"2024-10-06\",\"2024-10-07\",\"2024-10-08\",\"2024-10-09\",\"2024-10-10\",\"2024-10-11\",\"2024-10-12\",\"2024-10-13\",\"2024-10-14\",\"2024-10-15\",\"2024-10-16\",\"2024-10-17\",\"2024-10-18\",\"2024-10-19\",\"2024-10-20\",\"2024-10-21\",\"2024-10-22\",\"2024-10-23\",\"2024-10-25\",\"2024-10-26\",\"2024-10-27\",\"2024-10-28\",\"2024-10-29\",\"2024-10-31\",\"2024-11-01\",\"2024-11-02\",\"2024-11-03\",\"2024-11-04\",\"2024-11-05\",\"2024-11-06\",\"2024-11-07\",\"2024-11-08\",\"2024-11-09\",\"2024-11-10\",\"2024-11-11\",\"2024-11-12\",\"2024-11-13\",\"2024-11-14\",\"2024-11-15\",\"2024-11-16\",\"2024-11-17\",\"2024-11-18\",\"2024-11-19\",\"2024-11-20\",\"2024-11-21\",\"2024-11-22\",\"2024-11-23\",\"2024-11-24\",\"2024-11-25\",\"2024-11-26\",\"2024-11-27\",\"2024-11-28\",\"2024-11-29\",\"2024-11-30\",\"2024-12-01\",\"2024-12-02\",\"2024-12-03\",\"2024-12-04\",\"2024-12-05\",\"2024-12-06\",\"2024-12-07\",\"2024-12-08\",\"2024-12-09\",\"2024-12-10\",\"2024-12-11\",\"2024-12-12\",\"2024-12-13\",\"2024-12-14\",\"2024-12-15\",\"2024-12-16\",\"2024-12-17\",\"2024-12-18\",\"2024-12-19\",\"2024-12-20\",\"2024-12-21\",\"2024-12-22\",\"2024-12-23\",\"2024-12-24\",\"2024-12-25\",\"2024-12-26\",\"2024-12-27\",\"2024-12-28\",\"2024-12-29\",\"2024-12-30\",\"2024-12-31\",\"2025-01-01\",\"2025-01-02\",\"2025-01-03\",\"2025-01-04\",\"2025-01-05\",\"2025-01-06\",\"2025-01-07\",\"2025-01-08\",\"2025-01-09\",\"2025-01-10\",\"2025-01-11\",\"2025-01-12\",\"2025-01-13\",\"2025-01-14\",\"2025-01-15\",\"2025-01-16\",\"2025-01-17\",\"2025-01-18\",\"2025-01-19\",\"2025-01-20\",\"2025-01-21\",\"2025-01-22\",\"2025-01-23\",\"2025-01-24\",\"2025-01-25\",\"2025-01-26\",\"2025-01-27\",\"2025-01-28\",\"2025-01-30\",\"2025-01-31\",\"2025-02-01\",\"2025-02-02\",\"2025-02-03\",\"2025-02-04\",\"2025-02-05\",\"2025-02-06\",\"2025-02-07\",\"2025-02-08\",\"2025-02-09\",\"2025-02-10\",\"2025-02-11\",\"2025-02-12\",\"2025-02-13\",\"2025-02-14\",\"2025-02-15\",\"2025-02-16\",\"2025-02-17\",\"2025-02-18\",\"2025-02-19\",\"2025-02-20\",\"2025-02-21\",\"2025-02-22\",\"2025-02-23\",\"2025-02-24\",\"2025-02-25\",\"2025-02-26\",\"2025-02-27\",\"2025-02-28\",\"2025-03-01\",\"2025-03-02\",\"2025-03-03\",\"2025-03-04\",\"2025-03-05\",\"2025-03-06\",\"2025-03-07\",\"2025-03-08\",\"2025-03-09\",\"2025-03-10\",\"2025-03-11\",\"2025-03-12\",\"2025-03-13\",\"2025-03-14\",\"2025-03-15\",\"2025-03-16\",\"2025-03-17\",\"2025-03-18\",\"2025-03-19\",\"2025-03-20\",\"2025-03-21\",\"2025-03-22\",\"2025-03-23\",\"2025-03-24\",\"2025-03-25\",\"2025-03-26\",\"2025-03-27\",\"2025-03-28\",\"2025-03-29\",\"2025-03-31\",\"2025-04-01\",\"2025-04-02\",\"2025-04-03\",\"2025-04-04\",\"2025-04-05\",\"2025-04-06\",\"2025-04-07\",\"2025-04-08\",\"2025-04-09\",\"2025-04-10\",\"2025-04-11\",\"2025-04-12\",\"2025-04-13\",\"2025-04-14\",\"2025-04-15\",\"2025-04-16\",\"2025-04-17\",\"2025-04-18\",\"2025-04-19\",\"2025-04-20\",\"2025-04-21\",\"2025-04-22\",\"2025-04-23\",\"2025-04-24\",\"2025-04-25\",\"2025-04-26\",\"2025-04-27\",\"2025-04-28\",\"2025-04-29\",\"2025-04-30\",\"2025-05-01\"],\"y\":[-0.20400000000000001,1166.248788,90.2,1.71544,3639.3031690000003,1024.70728,5491.768834,1670.012358,477.6248299999999,4325.827543,3053.31353,1858.7985700000002,3894.1050699999996,1418.55293,-30.7705,4416.8473,312.130593,2503.747235,8493.192736,8244.241409,1674.715167,8361.086245,26773.771643,19791.026041,6814.825139,4271.886236,9949.501624,2482.9272,3588.179495,3039.166,0.0,3465.865832,5847.68282,228.57984,503.293955,1244.6384,842.799493,2593.147623,2097.182,1297.018477,1302.916428,3215.906593,150.41114,227.85100799999998,883.097404,1100.57514,912.786145,2507.963406,883.760812,126.7884,0.0,9740.93209,236.33513399999998,0.0,1218.4267,0.0,5207.443414,389.743164,2237.798674,6621.451755,-36104.012520000004,3774.08872,2467.702221,2441.4683999999997,1946.4454620000001,0.0,0.0,1119.536196,279.185907,0.0,4281.488139,0.0,526.9338359999999,0.0,0.0,5306.017045,0.0,0.916,968.59038,656.21704,1.56576,1147.595856,2101.741695,251.604742,0.0,2136.853859,1150.5233050000002,948.970582,214.5898,3522.3946610000003,0.0,0.0,6017.309216,0.0,0.0,7329.223137999999,0.0,0.0,0.0,0.0,-1.40304,0.0,2084.433906,1268.7590360000002,0.0,2053.973644,57478.456026,773.5582039999999,0.0,0.0,4197.732182,0.0,1842.738325,0.0,1202.488212,1118.387284,0.0,0.0,11595.627026,1876.812082,0.0,2678.839374,0.0,0.0,0.0,0.0,2569.979964,2120.091364,129.66130099999998,0.0,2273.29301,88084.992348,0.0,0.0,0.0,6400.623656,0.0,0.0,0.0,0.0,0.0,0.0,-108604.496278,-4779.219012,11147.900554,0.0,847.7766200000001,858.6705000000001,0.0,2168.9015130000003,0.0,307.201888,192.602844,1005.30527,0.0,0.0,231.236918,0.0,0.0,0.0,0.0,0.0,0.0,0.0,0.0,0.0,9585.03428,36165.56933,0.0,334.760796,0.0,0.0,439.812513,0.0,0.0,2710.626288,0.0,0.0,0.0,5767.161892,130.487079,0.0,5396.546638,396.06272,0.0,8885.327477,541.55471,0.0,1913.61958,1170.2260760000001,219.480876,36.11496,333.219141,0.0,229.060526,0.0,0.0,-46.489941,13235.862071,42471.99413,666.6623079999999,0.0,0.0,765.475192,1040.5747959999999,0.0,0.0,2259.351364,678.4759280000001,2821.24842,628.96246,646.3734049999999,0.0,548.36595,1479.677222,2053.119744,7680.907897,2348.106228,2003.536586,255.14686999999998,546.624374,3158.176614,1573.210981,2259.775633,909.745283,-19401.98745,0.0,445.338356,5059.459732,1603.1,-2848.159792,-131096.684429,125469.059183,850.54514,337.835516,754.7378,22392.613443,324.614126,1435.68724,-168404.684788,2342.996384,-21.54374,2350.515482,7620.880654,2651.179741,323.34897900000016,15066.899868999999,537.156958,390.239734,758.93225,3146.294798,-2120.027005,13697.166794,0.0,1367.500173,0.0,0.0,2081.2674110000003,0.0,7617.597338,0.0,16.972942,390.062046,4235.298688000001,2301.21954,0.0,2399.9471460000004,3084.287743,0.0,890.33157,3575.442423,0.0,0.0,10647.977,-36229.641811,1559.841529,736.621517,1756.982034,1878.804638,7470.003118,5170.4237570000005,811.1445319999999,4078.848863,74647.224101,47685.441134,2953.3108039999997,2971.896355,6749.1349199999995,1707.06994,446.44485399999996,38557.643499,0.0,1474.79,3278.847724,975.654751,0.0,76710.0,101011.685664,391191.397356,46244.207645,512.5267630000001,9306.360951999999,0.0,33022.823669,57155.55836,1463.5119,30768.98004,4204.115234,197204.43597299999,3884.0032459999998,874.615107,1268.4574440000001,5651.26397,3512.2119079999998,1829.292797,97105.75260400001,1287.143384,109.68322,12077.961595,197222.110638,8230.0,8517.7655,130987.5,9482.221441,21921.2036,552358.362682,177135.235423,2741.101375,3069.196282,3273.5394420000002,0.0,0.0,11453.265684,2479.265806,0.0,5770.595066,11039.384571,575.945518,144.99309,2220.589556,5792.351952,14711.128934,3865.013572,0.0,58.007635,134.82844,40200.0,217.47456799999998,980.433384,4329.319769,1470.407794,0.0,2112.5276,1402.082488,0.0,0.0,4591.427138999999,0.0,0.0,-42968.356034,24388.96847,-9755.544279999998,28524.027079,3188.3381949999994,395176.616812,6966.413809000001,16092.898215,47302.273478,56107.941783,1713.120195,43400.145539,63151.90801,18374.63,31185.493634999995,73493.228128,29756.912247,37919.846923,15890.96533,505.40523,33.061386999999996,37973.605394,117761.291571,5286.100993,61765.051478],\"type\":\"scatter\"}],                        {\"template\":{\"data\":{\"histogram2dcontour\":[{\"type\":\"histogram2dcontour\",\"colorbar\":{\"outlinewidth\":0,\"ticks\":\"\"},\"colorscale\":[[0.0,\"#0d0887\"],[0.1111111111111111,\"#46039f\"],[0.2222222222222222,\"#7201a8\"],[0.3333333333333333,\"#9c179e\"],[0.4444444444444444,\"#bd3786\"],[0.5555555555555556,\"#d8576b\"],[0.6666666666666666,\"#ed7953\"],[0.7777777777777778,\"#fb9f3a\"],[0.8888888888888888,\"#fdca26\"],[1.0,\"#f0f921\"]]}],\"choropleth\":[{\"type\":\"choropleth\",\"colorbar\":{\"outlinewidth\":0,\"ticks\":\"\"}}],\"histogram2d\":[{\"type\":\"histogram2d\",\"colorbar\":{\"outlinewidth\":0,\"ticks\":\"\"},\"colorscale\":[[0.0,\"#0d0887\"],[0.1111111111111111,\"#46039f\"],[0.2222222222222222,\"#7201a8\"],[0.3333333333333333,\"#9c179e\"],[0.4444444444444444,\"#bd3786\"],[0.5555555555555556,\"#d8576b\"],[0.6666666666666666,\"#ed7953\"],[0.7777777777777778,\"#fb9f3a\"],[0.8888888888888888,\"#fdca26\"],[1.0,\"#f0f921\"]]}],\"heatmap\":[{\"type\":\"heatmap\",\"colorbar\":{\"outlinewidth\":0,\"ticks\":\"\"},\"colorscale\":[[0.0,\"#0d0887\"],[0.1111111111111111,\"#46039f\"],[0.2222222222222222,\"#7201a8\"],[0.3333333333333333,\"#9c179e\"],[0.4444444444444444,\"#bd3786\"],[0.5555555555555556,\"#d8576b\"],[0.6666666666666666,\"#ed7953\"],[0.7777777777777778,\"#fb9f3a\"],[0.8888888888888888,\"#fdca26\"],[1.0,\"#f0f921\"]]}],\"heatmapgl\":[{\"type\":\"heatmapgl\",\"colorbar\":{\"outlinewidth\":0,\"ticks\":\"\"},\"colorscale\":[[0.0,\"#0d0887\"],[0.1111111111111111,\"#46039f\"],[0.2222222222222222,\"#7201a8\"],[0.3333333333333333,\"#9c179e\"],[0.4444444444444444,\"#bd3786\"],[0.5555555555555556,\"#d8576b\"],[0.6666666666666666,\"#ed7953\"],[0.7777777777777778,\"#fb9f3a\"],[0.8888888888888888,\"#fdca26\"],[1.0,\"#f0f921\"]]}],\"contourcarpet\":[{\"type\":\"contourcarpet\",\"colorbar\":{\"outlinewidth\":0,\"ticks\":\"\"}}],\"contour\":[{\"type\":\"contour\",\"colorbar\":{\"outlinewidth\":0,\"ticks\":\"\"},\"colorscale\":[[0.0,\"#0d0887\"],[0.1111111111111111,\"#46039f\"],[0.2222222222222222,\"#7201a8\"],[0.3333333333333333,\"#9c179e\"],[0.4444444444444444,\"#bd3786\"],[0.5555555555555556,\"#d8576b\"],[0.6666666666666666,\"#ed7953\"],[0.7777777777777778,\"#fb9f3a\"],[0.8888888888888888,\"#fdca26\"],[1.0,\"#f0f921\"]]}],\"surface\":[{\"type\":\"surface\",\"colorbar\":{\"outlinewidth\":0,\"ticks\":\"\"},\"colorscale\":[[0.0,\"#0d0887\"],[0.1111111111111111,\"#46039f\"],[0.2222222222222222,\"#7201a8\"],[0.3333333333333333,\"#9c179e\"],[0.4444444444444444,\"#bd3786\"],[0.5555555555555556,\"#d8576b\"],[0.6666666666666666,\"#ed7953\"],[0.7777777777777778,\"#fb9f3a\"],[0.8888888888888888,\"#fdca26\"],[1.0,\"#f0f921\"]]}],\"mesh3d\":[{\"type\":\"mesh3d\",\"colorbar\":{\"outlinewidth\":0,\"ticks\":\"\"}}],\"scatter\":[{\"fillpattern\":{\"fillmode\":\"overlay\",\"size\":10,\"solidity\":0.2},\"type\":\"scatter\"}],\"parcoords\":[{\"type\":\"parcoords\",\"line\":{\"colorbar\":{\"outlinewidth\":0,\"ticks\":\"\"}}}],\"scatterpolargl\":[{\"type\":\"scatterpolargl\",\"marker\":{\"colorbar\":{\"outlinewidth\":0,\"ticks\":\"\"}}}],\"bar\":[{\"error_x\":{\"color\":\"#2a3f5f\"},\"error_y\":{\"color\":\"#2a3f5f\"},\"marker\":{\"line\":{\"color\":\"#E5ECF6\",\"width\":0.5},\"pattern\":{\"fillmode\":\"overlay\",\"size\":10,\"solidity\":0.2}},\"type\":\"bar\"}],\"scattergeo\":[{\"type\":\"scattergeo\",\"marker\":{\"colorbar\":{\"outlinewidth\":0,\"ticks\":\"\"}}}],\"scatterpolar\":[{\"type\":\"scatterpolar\",\"marker\":{\"colorbar\":{\"outlinewidth\":0,\"ticks\":\"\"}}}],\"histogram\":[{\"marker\":{\"pattern\":{\"fillmode\":\"overlay\",\"size\":10,\"solidity\":0.2}},\"type\":\"histogram\"}],\"scattergl\":[{\"type\":\"scattergl\",\"marker\":{\"colorbar\":{\"outlinewidth\":0,\"ticks\":\"\"}}}],\"scatter3d\":[{\"type\":\"scatter3d\",\"line\":{\"colorbar\":{\"outlinewidth\":0,\"ticks\":\"\"}},\"marker\":{\"colorbar\":{\"outlinewidth\":0,\"ticks\":\"\"}}}],\"scattermapbox\":[{\"type\":\"scattermapbox\",\"marker\":{\"colorbar\":{\"outlinewidth\":0,\"ticks\":\"\"}}}],\"scatterternary\":[{\"type\":\"scatterternary\",\"marker\":{\"colorbar\":{\"outlinewidth\":0,\"ticks\":\"\"}}}],\"scattercarpet\":[{\"type\":\"scattercarpet\",\"marker\":{\"colorbar\":{\"outlinewidth\":0,\"ticks\":\"\"}}}],\"carpet\":[{\"aaxis\":{\"endlinecolor\":\"#2a3f5f\",\"gridcolor\":\"white\",\"linecolor\":\"white\",\"minorgridcolor\":\"white\",\"startlinecolor\":\"#2a3f5f\"},\"baxis\":{\"endlinecolor\":\"#2a3f5f\",\"gridcolor\":\"white\",\"linecolor\":\"white\",\"minorgridcolor\":\"white\",\"startlinecolor\":\"#2a3f5f\"},\"type\":\"carpet\"}],\"table\":[{\"cells\":{\"fill\":{\"color\":\"#EBF0F8\"},\"line\":{\"color\":\"white\"}},\"header\":{\"fill\":{\"color\":\"#C8D4E3\"},\"line\":{\"color\":\"white\"}},\"type\":\"table\"}],\"barpolar\":[{\"marker\":{\"line\":{\"color\":\"#E5ECF6\",\"width\":0.5},\"pattern\":{\"fillmode\":\"overlay\",\"size\":10,\"solidity\":0.2}},\"type\":\"barpolar\"}],\"pie\":[{\"automargin\":true,\"type\":\"pie\"}]},\"layout\":{\"autotypenumbers\":\"strict\",\"colorway\":[\"#636efa\",\"#EF553B\",\"#00cc96\",\"#ab63fa\",\"#FFA15A\",\"#19d3f3\",\"#FF6692\",\"#B6E880\",\"#FF97FF\",\"#FECB52\"],\"font\":{\"color\":\"#2a3f5f\"},\"hovermode\":\"closest\",\"hoverlabel\":{\"align\":\"left\"},\"paper_bgcolor\":\"white\",\"plot_bgcolor\":\"#E5ECF6\",\"polar\":{\"bgcolor\":\"#E5ECF6\",\"angularaxis\":{\"gridcolor\":\"white\",\"linecolor\":\"white\",\"ticks\":\"\"},\"radialaxis\":{\"gridcolor\":\"white\",\"linecolor\":\"white\",\"ticks\":\"\"}},\"ternary\":{\"bgcolor\":\"#E5ECF6\",\"aaxis\":{\"gridcolor\":\"white\",\"linecolor\":\"white\",\"ticks\":\"\"},\"baxis\":{\"gridcolor\":\"white\",\"linecolor\":\"white\",\"ticks\":\"\"},\"caxis\":{\"gridcolor\":\"white\",\"linecolor\":\"white\",\"ticks\":\"\"}},\"coloraxis\":{\"colorbar\":{\"outlinewidth\":0,\"ticks\":\"\"}},\"colorscale\":{\"sequential\":[[0.0,\"#0d0887\"],[0.1111111111111111,\"#46039f\"],[0.2222222222222222,\"#7201a8\"],[0.3333333333333333,\"#9c179e\"],[0.4444444444444444,\"#bd3786\"],[0.5555555555555556,\"#d8576b\"],[0.6666666666666666,\"#ed7953\"],[0.7777777777777778,\"#fb9f3a\"],[0.8888888888888888,\"#fdca26\"],[1.0,\"#f0f921\"]],\"sequentialminus\":[[0.0,\"#0d0887\"],[0.1111111111111111,\"#46039f\"],[0.2222222222222222,\"#7201a8\"],[0.3333333333333333,\"#9c179e\"],[0.4444444444444444,\"#bd3786\"],[0.5555555555555556,\"#d8576b\"],[0.6666666666666666,\"#ed7953\"],[0.7777777777777778,\"#fb9f3a\"],[0.8888888888888888,\"#fdca26\"],[1.0,\"#f0f921\"]],\"diverging\":[[0,\"#8e0152\"],[0.1,\"#c51b7d\"],[0.2,\"#de77ae\"],[0.3,\"#f1b6da\"],[0.4,\"#fde0ef\"],[0.5,\"#f7f7f7\"],[0.6,\"#e6f5d0\"],[0.7,\"#b8e186\"],[0.8,\"#7fbc41\"],[0.9,\"#4d9221\"],[1,\"#276419\"]]},\"xaxis\":{\"gridcolor\":\"white\",\"linecolor\":\"white\",\"ticks\":\"\",\"title\":{\"standoff\":15},\"zerolinecolor\":\"white\",\"automargin\":true,\"zerolinewidth\":2},\"yaxis\":{\"gridcolor\":\"white\",\"linecolor\":\"white\",\"ticks\":\"\",\"title\":{\"standoff\":15},\"zerolinecolor\":\"white\",\"automargin\":true,\"zerolinewidth\":2},\"scene\":{\"xaxis\":{\"backgroundcolor\":\"#E5ECF6\",\"gridcolor\":\"white\",\"linecolor\":\"white\",\"showbackground\":true,\"ticks\":\"\",\"zerolinecolor\":\"white\",\"gridwidth\":2},\"yaxis\":{\"backgroundcolor\":\"#E5ECF6\",\"gridcolor\":\"white\",\"linecolor\":\"white\",\"showbackground\":true,\"ticks\":\"\",\"zerolinecolor\":\"white\",\"gridwidth\":2},\"zaxis\":{\"backgroundcolor\":\"#E5ECF6\",\"gridcolor\":\"white\",\"linecolor\":\"white\",\"showbackground\":true,\"ticks\":\"\",\"zerolinecolor\":\"white\",\"gridwidth\":2}},\"shapedefaults\":{\"line\":{\"color\":\"#2a3f5f\"}},\"annotationdefaults\":{\"arrowcolor\":\"#2a3f5f\",\"arrowhead\":0,\"arrowwidth\":1},\"geo\":{\"bgcolor\":\"white\",\"landcolor\":\"#E5ECF6\",\"subunitcolor\":\"white\",\"showland\":true,\"showlakes\":true,\"lakecolor\":\"white\"},\"title\":{\"x\":0.05},\"mapbox\":{\"style\":\"light\"}}},\"xaxis\":{\"anchor\":\"y\",\"domain\":[0.0,1.0]},\"yaxis\":{\"anchor\":\"x\",\"domain\":[0.0,1.0],\"title\":{\"text\":\"Value\"}},\"legend\":{\"tracegroupgap\":0},\"margin\":{\"t\":60},\"title\":{\"text\":\"Daily Market Sentiment vs Aggregated Trader PnL\"}},                        {\"responsive\": true}                    ).then(function(){\n",
              "                            \n",
              "var gd = document.getElementById('97a50f98-f356-471c-a27f-6e6cd558267f');\n",
              "var x = new MutationObserver(function (mutations, observer) {{\n",
              "        var display = window.getComputedStyle(gd).display;\n",
              "        if (!display || display === 'none') {{\n",
              "            console.log([gd, 'removed!']);\n",
              "            Plotly.purge(gd);\n",
              "            observer.disconnect();\n",
              "        }}\n",
              "}});\n",
              "\n",
              "// Listen for the removal of the full notebook cells\n",
              "var notebookContainer = gd.closest('#notebook-container');\n",
              "if (notebookContainer) {{\n",
              "    x.observe(notebookContainer, {childList: true});\n",
              "}}\n",
              "\n",
              "// Listen for the clearing of the current output cell\n",
              "var outputEl = gd.closest('.output');\n",
              "if (outputEl) {{\n",
              "    x.observe(outputEl, {childList: true});\n",
              "}}\n",
              "\n",
              "                        })                };                            </script>        </div>\n",
              "</body>\n",
              "</html>"
            ]
          },
          "metadata": {}
        }
      ]
    },
    {
      "cell_type": "code",
      "source": [
        "# Ranking dashboard - simple bar chart\n",
        "fig3 = px.bar(ranking_df.head(20), x='Account', y='Score', title='Top 20 Trader Rankings')\n",
        "fig3.show()"
      ],
      "metadata": {
        "colab": {
          "base_uri": "https://localhost:8080/",
          "height": 542
        },
        "id": "ypxLZAg52mBi",
        "outputId": "52147251-7692-4087-f1d6-1c8073bec128"
      },
      "execution_count": 40,
      "outputs": [
        {
          "output_type": "display_data",
          "data": {
            "text/html": [
              "<html>\n",
              "<head><meta charset=\"utf-8\" /></head>\n",
              "<body>\n",
              "    <div>            <script src=\"https://cdnjs.cloudflare.com/ajax/libs/mathjax/2.7.5/MathJax.js?config=TeX-AMS-MML_SVG\"></script><script type=\"text/javascript\">if (window.MathJax && window.MathJax.Hub && window.MathJax.Hub.Config) {window.MathJax.Hub.Config({SVG: {font: \"STIX-Web\"}});}</script>                <script type=\"text/javascript\">window.PlotlyConfig = {MathJaxConfig: 'local'};</script>\n",
              "        <script charset=\"utf-8\" src=\"https://cdn.plot.ly/plotly-2.35.2.min.js\"></script>                <div id=\"7a07c649-bd1f-477c-aedc-a27fde671782\" class=\"plotly-graph-div\" style=\"height:525px; width:100%;\"></div>            <script type=\"text/javascript\">                                    window.PLOTLYENV=window.PLOTLYENV || {};                                    if (document.getElementById(\"7a07c649-bd1f-477c-aedc-a27fde671782\")) {                    Plotly.newPlot(                        \"7a07c649-bd1f-477c-aedc-a27fde671782\",                        [{\"alignmentgroup\":\"True\",\"hovertemplate\":\"Account=%{x}\\u003cbr\\u003eScore=%{y}\\u003cextra\\u003e\\u003c\\u002fextra\\u003e\",\"legendgroup\":\"\",\"marker\":{\"color\":\"#636efa\",\"pattern\":{\"shape\":\"\"}},\"name\":\"\",\"offsetgroup\":\"\",\"orientation\":\"v\",\"showlegend\":false,\"textposition\":\"auto\",\"x\":[\"0x513b8629fe877bb581bf244e326a047b249c4ff1\",\"0x083384f897ee0f19899168e3b1bec365f52a9012\",\"0x4f93fead39b70a1824f981a54d4e55b278e9f760\",\"0x8381e6d82f1affd39a336e143e081ef7620a3b7f\",\"0x75f7eeb85dc639d5e99c78f95393aa9a5f1170d4\",\"0x72c6a4624e1dffa724e6d00d64ceae698af892a0\",\"0x430f09841d65beb3f27765503d0f850b8bce7713\",\"0xae5eacaf9c6b9111fd53034a602c192a04e082ed\"],\"xaxis\":\"x\",\"y\":[8.544718310498034,2.5546193056761175,1.8848175894918153,1.2983500330956663,1.2136691958569716,0.7321491880106595,0.4621144829496963,0.4512050409168769],\"yaxis\":\"y\",\"type\":\"bar\"}],                        {\"template\":{\"data\":{\"histogram2dcontour\":[{\"type\":\"histogram2dcontour\",\"colorbar\":{\"outlinewidth\":0,\"ticks\":\"\"},\"colorscale\":[[0.0,\"#0d0887\"],[0.1111111111111111,\"#46039f\"],[0.2222222222222222,\"#7201a8\"],[0.3333333333333333,\"#9c179e\"],[0.4444444444444444,\"#bd3786\"],[0.5555555555555556,\"#d8576b\"],[0.6666666666666666,\"#ed7953\"],[0.7777777777777778,\"#fb9f3a\"],[0.8888888888888888,\"#fdca26\"],[1.0,\"#f0f921\"]]}],\"choropleth\":[{\"type\":\"choropleth\",\"colorbar\":{\"outlinewidth\":0,\"ticks\":\"\"}}],\"histogram2d\":[{\"type\":\"histogram2d\",\"colorbar\":{\"outlinewidth\":0,\"ticks\":\"\"},\"colorscale\":[[0.0,\"#0d0887\"],[0.1111111111111111,\"#46039f\"],[0.2222222222222222,\"#7201a8\"],[0.3333333333333333,\"#9c179e\"],[0.4444444444444444,\"#bd3786\"],[0.5555555555555556,\"#d8576b\"],[0.6666666666666666,\"#ed7953\"],[0.7777777777777778,\"#fb9f3a\"],[0.8888888888888888,\"#fdca26\"],[1.0,\"#f0f921\"]]}],\"heatmap\":[{\"type\":\"heatmap\",\"colorbar\":{\"outlinewidth\":0,\"ticks\":\"\"},\"colorscale\":[[0.0,\"#0d0887\"],[0.1111111111111111,\"#46039f\"],[0.2222222222222222,\"#7201a8\"],[0.3333333333333333,\"#9c179e\"],[0.4444444444444444,\"#bd3786\"],[0.5555555555555556,\"#d8576b\"],[0.6666666666666666,\"#ed7953\"],[0.7777777777777778,\"#fb9f3a\"],[0.8888888888888888,\"#fdca26\"],[1.0,\"#f0f921\"]]}],\"heatmapgl\":[{\"type\":\"heatmapgl\",\"colorbar\":{\"outlinewidth\":0,\"ticks\":\"\"},\"colorscale\":[[0.0,\"#0d0887\"],[0.1111111111111111,\"#46039f\"],[0.2222222222222222,\"#7201a8\"],[0.3333333333333333,\"#9c179e\"],[0.4444444444444444,\"#bd3786\"],[0.5555555555555556,\"#d8576b\"],[0.6666666666666666,\"#ed7953\"],[0.7777777777777778,\"#fb9f3a\"],[0.8888888888888888,\"#fdca26\"],[1.0,\"#f0f921\"]]}],\"contourcarpet\":[{\"type\":\"contourcarpet\",\"colorbar\":{\"outlinewidth\":0,\"ticks\":\"\"}}],\"contour\":[{\"type\":\"contour\",\"colorbar\":{\"outlinewidth\":0,\"ticks\":\"\"},\"colorscale\":[[0.0,\"#0d0887\"],[0.1111111111111111,\"#46039f\"],[0.2222222222222222,\"#7201a8\"],[0.3333333333333333,\"#9c179e\"],[0.4444444444444444,\"#bd3786\"],[0.5555555555555556,\"#d8576b\"],[0.6666666666666666,\"#ed7953\"],[0.7777777777777778,\"#fb9f3a\"],[0.8888888888888888,\"#fdca26\"],[1.0,\"#f0f921\"]]}],\"surface\":[{\"type\":\"surface\",\"colorbar\":{\"outlinewidth\":0,\"ticks\":\"\"},\"colorscale\":[[0.0,\"#0d0887\"],[0.1111111111111111,\"#46039f\"],[0.2222222222222222,\"#7201a8\"],[0.3333333333333333,\"#9c179e\"],[0.4444444444444444,\"#bd3786\"],[0.5555555555555556,\"#d8576b\"],[0.6666666666666666,\"#ed7953\"],[0.7777777777777778,\"#fb9f3a\"],[0.8888888888888888,\"#fdca26\"],[1.0,\"#f0f921\"]]}],\"mesh3d\":[{\"type\":\"mesh3d\",\"colorbar\":{\"outlinewidth\":0,\"ticks\":\"\"}}],\"scatter\":[{\"fillpattern\":{\"fillmode\":\"overlay\",\"size\":10,\"solidity\":0.2},\"type\":\"scatter\"}],\"parcoords\":[{\"type\":\"parcoords\",\"line\":{\"colorbar\":{\"outlinewidth\":0,\"ticks\":\"\"}}}],\"scatterpolargl\":[{\"type\":\"scatterpolargl\",\"marker\":{\"colorbar\":{\"outlinewidth\":0,\"ticks\":\"\"}}}],\"bar\":[{\"error_x\":{\"color\":\"#2a3f5f\"},\"error_y\":{\"color\":\"#2a3f5f\"},\"marker\":{\"line\":{\"color\":\"#E5ECF6\",\"width\":0.5},\"pattern\":{\"fillmode\":\"overlay\",\"size\":10,\"solidity\":0.2}},\"type\":\"bar\"}],\"scattergeo\":[{\"type\":\"scattergeo\",\"marker\":{\"colorbar\":{\"outlinewidth\":0,\"ticks\":\"\"}}}],\"scatterpolar\":[{\"type\":\"scatterpolar\",\"marker\":{\"colorbar\":{\"outlinewidth\":0,\"ticks\":\"\"}}}],\"histogram\":[{\"marker\":{\"pattern\":{\"fillmode\":\"overlay\",\"size\":10,\"solidity\":0.2}},\"type\":\"histogram\"}],\"scattergl\":[{\"type\":\"scattergl\",\"marker\":{\"colorbar\":{\"outlinewidth\":0,\"ticks\":\"\"}}}],\"scatter3d\":[{\"type\":\"scatter3d\",\"line\":{\"colorbar\":{\"outlinewidth\":0,\"ticks\":\"\"}},\"marker\":{\"colorbar\":{\"outlinewidth\":0,\"ticks\":\"\"}}}],\"scattermapbox\":[{\"type\":\"scattermapbox\",\"marker\":{\"colorbar\":{\"outlinewidth\":0,\"ticks\":\"\"}}}],\"scatterternary\":[{\"type\":\"scatterternary\",\"marker\":{\"colorbar\":{\"outlinewidth\":0,\"ticks\":\"\"}}}],\"scattercarpet\":[{\"type\":\"scattercarpet\",\"marker\":{\"colorbar\":{\"outlinewidth\":0,\"ticks\":\"\"}}}],\"carpet\":[{\"aaxis\":{\"endlinecolor\":\"#2a3f5f\",\"gridcolor\":\"white\",\"linecolor\":\"white\",\"minorgridcolor\":\"white\",\"startlinecolor\":\"#2a3f5f\"},\"baxis\":{\"endlinecolor\":\"#2a3f5f\",\"gridcolor\":\"white\",\"linecolor\":\"white\",\"minorgridcolor\":\"white\",\"startlinecolor\":\"#2a3f5f\"},\"type\":\"carpet\"}],\"table\":[{\"cells\":{\"fill\":{\"color\":\"#EBF0F8\"},\"line\":{\"color\":\"white\"}},\"header\":{\"fill\":{\"color\":\"#C8D4E3\"},\"line\":{\"color\":\"white\"}},\"type\":\"table\"}],\"barpolar\":[{\"marker\":{\"line\":{\"color\":\"#E5ECF6\",\"width\":0.5},\"pattern\":{\"fillmode\":\"overlay\",\"size\":10,\"solidity\":0.2}},\"type\":\"barpolar\"}],\"pie\":[{\"automargin\":true,\"type\":\"pie\"}]},\"layout\":{\"autotypenumbers\":\"strict\",\"colorway\":[\"#636efa\",\"#EF553B\",\"#00cc96\",\"#ab63fa\",\"#FFA15A\",\"#19d3f3\",\"#FF6692\",\"#B6E880\",\"#FF97FF\",\"#FECB52\"],\"font\":{\"color\":\"#2a3f5f\"},\"hovermode\":\"closest\",\"hoverlabel\":{\"align\":\"left\"},\"paper_bgcolor\":\"white\",\"plot_bgcolor\":\"#E5ECF6\",\"polar\":{\"bgcolor\":\"#E5ECF6\",\"angularaxis\":{\"gridcolor\":\"white\",\"linecolor\":\"white\",\"ticks\":\"\"},\"radialaxis\":{\"gridcolor\":\"white\",\"linecolor\":\"white\",\"ticks\":\"\"}},\"ternary\":{\"bgcolor\":\"#E5ECF6\",\"aaxis\":{\"gridcolor\":\"white\",\"linecolor\":\"white\",\"ticks\":\"\"},\"baxis\":{\"gridcolor\":\"white\",\"linecolor\":\"white\",\"ticks\":\"\"},\"caxis\":{\"gridcolor\":\"white\",\"linecolor\":\"white\",\"ticks\":\"\"}},\"coloraxis\":{\"colorbar\":{\"outlinewidth\":0,\"ticks\":\"\"}},\"colorscale\":{\"sequential\":[[0.0,\"#0d0887\"],[0.1111111111111111,\"#46039f\"],[0.2222222222222222,\"#7201a8\"],[0.3333333333333333,\"#9c179e\"],[0.4444444444444444,\"#bd3786\"],[0.5555555555555556,\"#d8576b\"],[0.6666666666666666,\"#ed7953\"],[0.7777777777777778,\"#fb9f3a\"],[0.8888888888888888,\"#fdca26\"],[1.0,\"#f0f921\"]],\"sequentialminus\":[[0.0,\"#0d0887\"],[0.1111111111111111,\"#46039f\"],[0.2222222222222222,\"#7201a8\"],[0.3333333333333333,\"#9c179e\"],[0.4444444444444444,\"#bd3786\"],[0.5555555555555556,\"#d8576b\"],[0.6666666666666666,\"#ed7953\"],[0.7777777777777778,\"#fb9f3a\"],[0.8888888888888888,\"#fdca26\"],[1.0,\"#f0f921\"]],\"diverging\":[[0,\"#8e0152\"],[0.1,\"#c51b7d\"],[0.2,\"#de77ae\"],[0.3,\"#f1b6da\"],[0.4,\"#fde0ef\"],[0.5,\"#f7f7f7\"],[0.6,\"#e6f5d0\"],[0.7,\"#b8e186\"],[0.8,\"#7fbc41\"],[0.9,\"#4d9221\"],[1,\"#276419\"]]},\"xaxis\":{\"gridcolor\":\"white\",\"linecolor\":\"white\",\"ticks\":\"\",\"title\":{\"standoff\":15},\"zerolinecolor\":\"white\",\"automargin\":true,\"zerolinewidth\":2},\"yaxis\":{\"gridcolor\":\"white\",\"linecolor\":\"white\",\"ticks\":\"\",\"title\":{\"standoff\":15},\"zerolinecolor\":\"white\",\"automargin\":true,\"zerolinewidth\":2},\"scene\":{\"xaxis\":{\"backgroundcolor\":\"#E5ECF6\",\"gridcolor\":\"white\",\"linecolor\":\"white\",\"showbackground\":true,\"ticks\":\"\",\"zerolinecolor\":\"white\",\"gridwidth\":2},\"yaxis\":{\"backgroundcolor\":\"#E5ECF6\",\"gridcolor\":\"white\",\"linecolor\":\"white\",\"showbackground\":true,\"ticks\":\"\",\"zerolinecolor\":\"white\",\"gridwidth\":2},\"zaxis\":{\"backgroundcolor\":\"#E5ECF6\",\"gridcolor\":\"white\",\"linecolor\":\"white\",\"showbackground\":true,\"ticks\":\"\",\"zerolinecolor\":\"white\",\"gridwidth\":2}},\"shapedefaults\":{\"line\":{\"color\":\"#2a3f5f\"}},\"annotationdefaults\":{\"arrowcolor\":\"#2a3f5f\",\"arrowhead\":0,\"arrowwidth\":1},\"geo\":{\"bgcolor\":\"white\",\"landcolor\":\"#E5ECF6\",\"subunitcolor\":\"white\",\"showland\":true,\"showlakes\":true,\"lakecolor\":\"white\"},\"title\":{\"x\":0.05},\"mapbox\":{\"style\":\"light\"}}},\"xaxis\":{\"anchor\":\"y\",\"domain\":[0.0,1.0],\"title\":{\"text\":\"Account\"}},\"yaxis\":{\"anchor\":\"x\",\"domain\":[0.0,1.0],\"title\":{\"text\":\"Score\"}},\"legend\":{\"tracegroupgap\":0},\"title\":{\"text\":\"Top 20 Trader Rankings\"},\"barmode\":\"relative\"},                        {\"responsive\": true}                    ).then(function(){\n",
              "                            \n",
              "var gd = document.getElementById('7a07c649-bd1f-477c-aedc-a27fde671782');\n",
              "var x = new MutationObserver(function (mutations, observer) {{\n",
              "        var display = window.getComputedStyle(gd).display;\n",
              "        if (!display || display === 'none') {{\n",
              "            console.log([gd, 'removed!']);\n",
              "            Plotly.purge(gd);\n",
              "            observer.disconnect();\n",
              "        }}\n",
              "}});\n",
              "\n",
              "// Listen for the removal of the full notebook cells\n",
              "var notebookContainer = gd.closest('#notebook-container');\n",
              "if (notebookContainer) {{\n",
              "    x.observe(notebookContainer, {childList: true});\n",
              "}}\n",
              "\n",
              "// Listen for the clearing of the current output cell\n",
              "var outputEl = gd.closest('.output');\n",
              "if (outputEl) {{\n",
              "    x.observe(outputEl, {childList: true});\n",
              "}}\n",
              "\n",
              "                        })                };                            </script>        </div>\n",
              "</body>\n",
              "</html>"
            ]
          },
          "metadata": {}
        }
      ]
    }
  ]
}